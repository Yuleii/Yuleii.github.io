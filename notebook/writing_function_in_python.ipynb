{
 "cells": [
  {
   "cell_type": "markdown",
   "metadata": {
    "toc": true
   },
   "source": [
    "<h1>Table of Contents<span class=\"tocSkip\"></span></h1>\n",
    "<div class=\"toc\"><ul class=\"toc-item\"><li><span><a href=\"#Best-Practices\" data-toc-modified-id=\"Best-Practices-1\"><span class=\"toc-item-num\">1&nbsp;&nbsp;</span>Best Practices</a></span><ul class=\"toc-item\"><li><span><a href=\"#Docstrings\" data-toc-modified-id=\"Docstrings-1.1\"><span class=\"toc-item-num\">1.1&nbsp;&nbsp;</span>Docstrings</a></span><ul class=\"toc-item\"><li><span><a href=\"#Anatomy-of-a-docstring\" data-toc-modified-id=\"Anatomy-of-a-docstring-1.1.1\"><span class=\"toc-item-num\">1.1.1&nbsp;&nbsp;</span>Anatomy of a docstring</a></span></li><li><span><a href=\"#Docstring-formats\" data-toc-modified-id=\"Docstring-formats-1.1.2\"><span class=\"toc-item-num\">1.1.2&nbsp;&nbsp;</span>Docstring formats</a></span><ul class=\"toc-item\"><li><span><a href=\"#Google-style\" data-toc-modified-id=\"Google-style-1.1.2.1\"><span class=\"toc-item-num\">1.1.2.1&nbsp;&nbsp;</span>Google style</a></span></li><li><span><a href=\"#Numpydoc\" data-toc-modified-id=\"Numpydoc-1.1.2.2\"><span class=\"toc-item-num\">1.1.2.2&nbsp;&nbsp;</span><a href=\"https://numpydoc.readthedocs.io/en/latest/format.html\" target=\"_blank\">Numpydoc</a></a></span></li></ul></li><li><span><a href=\"#Retrieving-docstrings\" data-toc-modified-id=\"Retrieving-docstrings-1.1.3\"><span class=\"toc-item-num\">1.1.3&nbsp;&nbsp;</span>Retrieving docstrings</a></span></li><li><span><a href=\"#Exercise-1\" data-toc-modified-id=\"Exercise-1-1.1.4\"><span class=\"toc-item-num\">1.1.4&nbsp;&nbsp;</span>Exercise 1</a></span></li><li><span><a href=\"#Exercise-2\" data-toc-modified-id=\"Exercise-2-1.1.5\"><span class=\"toc-item-num\">1.1.5&nbsp;&nbsp;</span>Exercise 2</a></span></li></ul></li><li><span><a href=\"#DRY-and-&quot;Do-One-Thing&quot;\" data-toc-modified-id=\"DRY-and-&quot;Do-One-Thing&quot;-1.2\"><span class=\"toc-item-num\">1.2&nbsp;&nbsp;</span>DRY and \"Do One Thing\"</a></span><ul class=\"toc-item\"><li><span><a href=\"#Don't-repeat-yourself-(DRY)\" data-toc-modified-id=\"Don't-repeat-yourself-(DRY)-1.2.1\"><span class=\"toc-item-num\">1.2.1&nbsp;&nbsp;</span>Don't repeat yourself (DRY)</a></span></li><li><span><a href=\"#Do-One-Thing\" data-toc-modified-id=\"Do-One-Thing-1.2.2\"><span class=\"toc-item-num\">1.2.2&nbsp;&nbsp;</span>Do One Thing</a></span></li></ul></li><li><span><a href=\"#Pass-by-assignment\" data-toc-modified-id=\"Pass-by-assignment-1.3\"><span class=\"toc-item-num\">1.3&nbsp;&nbsp;</span>Pass by assignment</a></span><ul class=\"toc-item\"><li><span><a href=\"#surprising-example\" data-toc-modified-id=\"surprising-example-1.3.1\"><span class=\"toc-item-num\">1.3.1&nbsp;&nbsp;</span>surprising example</a></span></li><li><span><a href=\"#Mutable-default-arguments-are-dangerous\" data-toc-modified-id=\"Mutable-default-arguments-are-dangerous-1.3.2\"><span class=\"toc-item-num\">1.3.2&nbsp;&nbsp;</span>Mutable default arguments are dangerous</a></span></li><li><span><a href=\"#Best-practice-for-default-arguments\" data-toc-modified-id=\"Best-practice-for-default-arguments-1.3.3\"><span class=\"toc-item-num\">1.3.3&nbsp;&nbsp;</span>Best practice for default arguments</a></span></li></ul></li></ul></li><li><span><a href=\"#Context-Managers\" data-toc-modified-id=\"Context-Managers-2\"><span class=\"toc-item-num\">2&nbsp;&nbsp;</span>Context Managers</a></span><ul class=\"toc-item\"><li><span><a href=\"#Using-context-managers\" data-toc-modified-id=\"Using-context-managers-2.1\"><span class=\"toc-item-num\">2.1&nbsp;&nbsp;</span>Using context managers</a></span><ul class=\"toc-item\"><li><span><a href=\"#A-real-world-example\" data-toc-modified-id=\"A-real-world-example-2.1.1\"><span class=\"toc-item-num\">2.1.1&nbsp;&nbsp;</span>A real-world example</a></span></li><li><span><a href=\"#Exercise:-The-speed-of-cats\" data-toc-modified-id=\"Exercise:-The-speed-of-cats-2.1.2\"><span class=\"toc-item-num\">2.1.2&nbsp;&nbsp;</span>Exercise: The speed of cats</a></span></li></ul></li><li><span><a href=\"#Writing-context-managers\" data-toc-modified-id=\"Writing-context-managers-2.2\"><span class=\"toc-item-num\">2.2&nbsp;&nbsp;</span>Writing context managers</a></span><ul class=\"toc-item\"><li><span><a href=\"#How-to-create-a-context-manager\" data-toc-modified-id=\"How-to-create-a-context-manager-2.2.1\"><span class=\"toc-item-num\">2.2.1&nbsp;&nbsp;</span>How to create a context manager</a></span></li><li><span><a href=\"#The-&quot;yield&quot;-keyword\" data-toc-modified-id=\"The-&quot;yield&quot;-keyword-2.2.2\"><span class=\"toc-item-num\">2.2.2&nbsp;&nbsp;</span>The \"yield\" keyword</a></span></li><li><span><a href=\"#Setup-and-teardown\" data-toc-modified-id=\"Setup-and-teardown-2.2.3\"><span class=\"toc-item-num\">2.2.3&nbsp;&nbsp;</span>Setup and teardown</a></span></li><li><span><a href=\"#Yielding-a-value-or-None\" data-toc-modified-id=\"Yielding-a-value-or-None-2.2.4\"><span class=\"toc-item-num\">2.2.4&nbsp;&nbsp;</span>Yielding a value or None</a></span></li><li><span><a href=\"#Exercise:-The-timer()-context-manager\" data-toc-modified-id=\"Exercise:-The-timer()-context-manager-2.2.5\"><span class=\"toc-item-num\">2.2.5&nbsp;&nbsp;</span>Exercise: The timer() context manager</a></span></li><li><span><a href=\"#Exercise:-A-read-only-open()-context-manager\" data-toc-modified-id=\"Exercise:-A-read-only-open()-context-manager-2.2.6\"><span class=\"toc-item-num\">2.2.6&nbsp;&nbsp;</span>Exercise: A read-only open() context manager</a></span></li></ul></li><li><span><a href=\"#Advanced-topics\" data-toc-modified-id=\"Advanced-topics-2.3\"><span class=\"toc-item-num\">2.3&nbsp;&nbsp;</span>Advanced topics</a></span><ul class=\"toc-item\"><li><span><a href=\"#Nested-contexts\" data-toc-modified-id=\"Nested-contexts-2.3.1\"><span class=\"toc-item-num\">2.3.1&nbsp;&nbsp;</span>Nested contexts</a></span></li><li><span><a href=\"#Handling-errors\" data-toc-modified-id=\"Handling-errors-2.3.2\"><span class=\"toc-item-num\">2.3.2&nbsp;&nbsp;</span>Handling errors</a></span></li><li><span><a href=\"#Context-manager-patterns\" data-toc-modified-id=\"Context-manager-patterns-2.3.3\"><span class=\"toc-item-num\">2.3.3&nbsp;&nbsp;</span>Context manager patterns</a></span></li><li><span><a href=\"#Exercise:-Scraping-the-NASDAQ\" data-toc-modified-id=\"Exercise:-Scraping-the-NASDAQ-2.3.4\"><span class=\"toc-item-num\">2.3.4&nbsp;&nbsp;</span>Exercise: Scraping the NASDAQ</a></span></li><li><span><a href=\"#Exercise:-Changing-the-working-directory\" data-toc-modified-id=\"Exercise:-Changing-the-working-directory-2.3.5\"><span class=\"toc-item-num\">2.3.5&nbsp;&nbsp;</span>Exercise: Changing the working directory</a></span></li></ul></li></ul></li><li><span><a href=\"#Decorators\" data-toc-modified-id=\"Decorators-3\"><span class=\"toc-item-num\">3&nbsp;&nbsp;</span>Decorators</a></span><ul class=\"toc-item\"><li><span><a href=\"#Functions-are-objects\" data-toc-modified-id=\"Functions-are-objects-3.1\"><span class=\"toc-item-num\">3.1&nbsp;&nbsp;</span>Functions are objects</a></span><ul class=\"toc-item\"><li><span><a href=\"#Functions-are-just-another-type-of-object\" data-toc-modified-id=\"Functions-are-just-another-type-of-object-3.1.1\"><span class=\"toc-item-num\">3.1.1&nbsp;&nbsp;</span>Functions are just another type of object</a></span></li><li><span><a href=\"#Functions-as-variables\" data-toc-modified-id=\"Functions-as-variables-3.1.2\"><span class=\"toc-item-num\">3.1.2&nbsp;&nbsp;</span>Functions as variables</a></span></li><li><span><a href=\"#Lists-and-dictionaries-of-functions\" data-toc-modified-id=\"Lists-and-dictionaries-of-functions-3.1.3\"><span class=\"toc-item-num\">3.1.3&nbsp;&nbsp;</span>Lists and dictionaries of functions</a></span></li><li><span><a href=\"#Referencing-a-function\" data-toc-modified-id=\"Referencing-a-function-3.1.4\"><span class=\"toc-item-num\">3.1.4&nbsp;&nbsp;</span>Referencing a function</a></span></li><li><span><a href=\"#Functions-as-arguments\" data-toc-modified-id=\"Functions-as-arguments-3.1.5\"><span class=\"toc-item-num\">3.1.5&nbsp;&nbsp;</span>Functions as arguments</a></span></li><li><span><a href=\"#Defining-a-function-inside-another-function\" data-toc-modified-id=\"Defining-a-function-inside-another-function-3.1.6\"><span class=\"toc-item-num\">3.1.6&nbsp;&nbsp;</span>Defining a function inside another function</a></span></li></ul></li><li><span><a href=\"#Scope\" data-toc-modified-id=\"Scope-3.2\"><span class=\"toc-item-num\">3.2&nbsp;&nbsp;</span>Scope</a></span><ul class=\"toc-item\"><li><span><a href=\"#The-global-keyword\" data-toc-modified-id=\"The-global-keyword-3.2.1\"><span class=\"toc-item-num\">3.2.1&nbsp;&nbsp;</span>The global keyword</a></span></li><li><span><a href=\"#The-nonlocal-keyword\" data-toc-modified-id=\"The-nonlocal-keyword-3.2.2\"><span class=\"toc-item-num\">3.2.2&nbsp;&nbsp;</span>The nonlocal keyword</a></span></li></ul></li><li><span><a href=\"#Closures\" data-toc-modified-id=\"Closures-3.3\"><span class=\"toc-item-num\">3.3&nbsp;&nbsp;</span>Closures</a></span><ul class=\"toc-item\"><li><span><a href=\"#Attaching-nonlocal-variables-to-nested-functions\" data-toc-modified-id=\"Attaching-nonlocal-variables-to-nested-functions-3.3.1\"><span class=\"toc-item-num\">3.3.1&nbsp;&nbsp;</span>Attaching nonlocal variables to nested functions</a></span></li><li><span><a href=\"#Closures-and-deletion\" data-toc-modified-id=\"Closures-and-deletion-3.3.2\"><span class=\"toc-item-num\">3.3.2&nbsp;&nbsp;</span>Closures and deletion</a></span></li><li><span><a href=\"#Closures-and-overwriting\" data-toc-modified-id=\"Closures-and-overwriting-3.3.3\"><span class=\"toc-item-num\">3.3.3&nbsp;&nbsp;</span>Closures and overwriting</a></span></li></ul></li><li><span><a href=\"#Why-does-all-of-this-matter?\" data-toc-modified-id=\"Why-does-all-of-this-matter?-3.4\"><span class=\"toc-item-num\">3.4&nbsp;&nbsp;</span>Why does all of this matter?</a></span></li><li><span><a href=\"#Decorators\" data-toc-modified-id=\"Decorators-3.5\"><span class=\"toc-item-num\">3.5&nbsp;&nbsp;</span>Decorators</a></span><ul class=\"toc-item\"><li><span><a href=\"#The-double_args-decorator\" data-toc-modified-id=\"The-double_args-decorator-3.5.1\"><span class=\"toc-item-num\">3.5.1&nbsp;&nbsp;</span>The double_args decorator</a></span></li><li><span><a href=\"#Decorator-syntax\" data-toc-modified-id=\"Decorator-syntax-3.5.2\"><span class=\"toc-item-num\">3.5.2&nbsp;&nbsp;</span>Decorator syntax</a></span></li><li><span><a href=\"#Exercise:-Defining-a-decorator\" data-toc-modified-id=\"Exercise:-Defining-a-decorator-3.5.3\"><span class=\"toc-item-num\">3.5.3&nbsp;&nbsp;</span>Exercise: Defining a decorator</a></span></li></ul></li><li><span><a href=\"#Real-world-examples\" data-toc-modified-id=\"Real-world-examples-3.6\"><span class=\"toc-item-num\">3.6&nbsp;&nbsp;</span>Real-world examples</a></span><ul class=\"toc-item\"><li><span><a href=\"#Time-a-function\" data-toc-modified-id=\"Time-a-function-3.6.1\"><span class=\"toc-item-num\">3.6.1&nbsp;&nbsp;</span>Time a function</a></span></li><li><span><a href=\"#Using-timer()\" data-toc-modified-id=\"Using-timer()-3.6.2\"><span class=\"toc-item-num\">3.6.2&nbsp;&nbsp;</span>Using timer()</a></span></li><li><span><a href=\"#When-to-use-decorators\" data-toc-modified-id=\"When-to-use-decorators-3.6.3\"><span class=\"toc-item-num\">3.6.3&nbsp;&nbsp;</span>When to use decorators</a></span></li><li><span><a href=\"#Exercise:-Print-the-return-type\" data-toc-modified-id=\"Exercise:-Print-the-return-type-3.6.4\"><span class=\"toc-item-num\">3.6.4&nbsp;&nbsp;</span>Exercise: Print the return type</a></span></li><li><span><a href=\"#Exercise:-Counter\" data-toc-modified-id=\"Exercise:-Counter-3.6.5\"><span class=\"toc-item-num\">3.6.5&nbsp;&nbsp;</span>Exercise: Counter</a></span></li></ul></li><li><span><a href=\"#Decorators-and-metadata\" data-toc-modified-id=\"Decorators-and-metadata-3.7\"><span class=\"toc-item-num\">3.7&nbsp;&nbsp;</span>Decorators and metadata</a></span><ul class=\"toc-item\"><li><span><a href=\"#fix:-The-timer-decorator\" data-toc-modified-id=\"fix:-The-timer-decorator-3.7.1\"><span class=\"toc-item-num\">3.7.1&nbsp;&nbsp;</span>fix: The timer decorator</a></span></li><li><span><a href=\"#Access-to-the-original-function\" data-toc-modified-id=\"Access-to-the-original-function-3.7.2\"><span class=\"toc-item-num\">3.7.2&nbsp;&nbsp;</span>Access to the original function</a></span></li></ul></li><li><span><a href=\"#Decorators-that-take-arguments\" data-toc-modified-id=\"Decorators-that-take-arguments-3.8\"><span class=\"toc-item-num\">3.8&nbsp;&nbsp;</span>Decorators that take arguments</a></span><ul class=\"toc-item\"><li><span><a href=\"#A-decorator-factory\" data-toc-modified-id=\"A-decorator-factory-3.8.1\"><span class=\"toc-item-num\">3.8.1&nbsp;&nbsp;</span>A decorator factory</a></span></li></ul></li><li><span><a href=\"#Timeout():-a-real-world-example\" data-toc-modified-id=\"Timeout():-a-real-world-example-3.9\"><span class=\"toc-item-num\">3.9&nbsp;&nbsp;</span>Timeout(): a real world example</a></span><ul class=\"toc-item\"><li><span><a href=\"#Exercise:-Tag-your-functions\" data-toc-modified-id=\"Exercise:-Tag-your-functions-3.9.1\"><span class=\"toc-item-num\">3.9.1&nbsp;&nbsp;</span>Exercise: Tag your functions</a></span></li><li><span><a href=\"#Exercise:-Check-the-return-type\" data-toc-modified-id=\"Exercise:-Check-the-return-type-3.9.2\"><span class=\"toc-item-num\">3.9.2&nbsp;&nbsp;</span>Exercise: Check the return type</a></span></li></ul></li></ul></li></ul></div>"
   ]
  },
  {
   "cell_type": "markdown",
   "metadata": {},
   "source": [
    "# Best Practices"
   ]
  },
  {
   "cell_type": "markdown",
   "metadata": {},
   "source": [
    "## Docstrings"
   ]
  },
  {
   "cell_type": "markdown",
   "metadata": {},
   "source": [
    "### Anatomy of a docstring"
   ]
  },
  {
   "cell_type": "code",
   "execution_count": 2,
   "metadata": {},
   "outputs": [],
   "source": [
    "def function_name(arguments):\n",
    "    \"\"\"  \n",
    "    Description of what the function does.\n",
    "    \n",
    "    Description of the arguments, if any. \n",
    "    \n",
    "    Description of the return value(s), if any.  \n",
    "    \n",
    "    Description of errors raised, if any.  \n",
    "    \n",
    "    Optional extra notes or examples of usage.  \n",
    "    \"\"\""
   ]
  },
  {
   "cell_type": "markdown",
   "metadata": {},
   "source": [
    "### Docstring formats\n",
    "\n",
    "- Google Style\n",
    "\n",
    "- Numpydoc\n",
    "\n",
    "- reStructuredText\n",
    "\n",
    "- EpyText"
   ]
  },
  {
   "cell_type": "markdown",
   "metadata": {},
   "source": [
    "#### Google style "
   ]
  },
  {
   "cell_type": "code",
   "execution_count": 3,
   "metadata": {},
   "outputs": [],
   "source": [
    "def function(arg_1, arg_2=42):\n",
    "    \"\"\"Description of what the function does. \n",
    "    \n",
    "    Args:   arg_1 (str): Description of arg_1 that can break onto the next line     \n",
    "        if needed.   \n",
    "    arg_2 (int, optional): Write optional when an argument has a default     \n",
    "        value. \n",
    "        \n",
    "    Returns:   \n",
    "        bool: Optional description of the return value   \n",
    "        Extra lines are not indented. \n",
    "        \n",
    "    Raises:   \n",
    "        ValueError: Include any error types that the function intentionally\n",
    "            raises. \n",
    "            \n",
    "    Notes:   \n",
    "        See https://www.datacamp.com/community/tutorials/docstrings-python   \n",
    "        for more info.   \n",
    "    \"\"\"\n"
   ]
  },
  {
   "cell_type": "markdown",
   "metadata": {},
   "source": [
    "#### [Numpydoc](https://numpydoc.readthedocs.io/en/latest/format.html)"
   ]
  },
  {
   "cell_type": "code",
   "execution_count": 4,
   "metadata": {},
   "outputs": [],
   "source": [
    "def function(arg_1, arg_2=42):\n",
    "    \"\"\" Description of what the function does.\n",
    "    \n",
    "    Parameters \n",
    "    ---------- \n",
    "    arg_1 : expected type of arg_1   \n",
    "        Description of arg_1. \n",
    "    arg_2 : int, optional   \n",
    "        Write optional when an argument has a default value.\n",
    "        Default=42.\n",
    "      \n",
    "    Returns \n",
    "    ------- \n",
    "    The type of the return value\n",
    "        Can include a description of the return value.\n",
    "        Replace \"Returns\" with \"Yields\" if this function is a generator. \n",
    "    \"\"\""
   ]
  },
  {
   "cell_type": "markdown",
   "metadata": {},
   "source": [
    "### Retrieving docstrings"
   ]
  },
  {
   "cell_type": "code",
   "execution_count": 7,
   "metadata": {},
   "outputs": [
    {
     "name": "stdout",
     "output_type": "stream",
     "text": [
      "Return the answer to life, the universe, and everything.\n",
      "    \n",
      "    Returns:    \n",
      "        int\n",
      "    \n"
     ]
    }
   ],
   "source": [
    "def the_answer():\n",
    "    \"\"\"Return the answer to life, the universe, and everything.\n",
    "    \n",
    "    Returns:    \n",
    "        int\n",
    "    \"\"\"\n",
    "    return 42\n",
    "print(the_answer.__doc__)"
   ]
  },
  {
   "cell_type": "code",
   "execution_count": 9,
   "metadata": {},
   "outputs": [
    {
     "name": "stdout",
     "output_type": "stream",
     "text": [
      "Return the answer to life, the universe, and everything.\n",
      "\n",
      "Returns:    \n",
      "    int\n"
     ]
    }
   ],
   "source": [
    "import inspect \n",
    "print(inspect.getdoc(the_answer))"
   ]
  },
  {
   "cell_type": "markdown",
   "metadata": {},
   "source": [
    "### Exercise 1"
   ]
  },
  {
   "cell_type": "code",
   "execution_count": 11,
   "metadata": {},
   "outputs": [],
   "source": [
    "def count_letter(content, letter):\n",
    "    \"\"\"Count the number of times `letter` appears in `content`.\n",
    "\n",
    "    Args:\n",
    "        content (str): The string to search.\n",
    "        letter (str): The letter to search for.\n",
    "\n",
    "    Returns:\n",
    "        int\n",
    "\n",
    "    # Add a section detailing what errors might be raised\n",
    "    Raises:\n",
    "        ValueError: If `letter` is not a one-character string.\n",
    "    \"\"\"\n",
    "    if (not isinstance(letter, str)) or len(letter) != 1:\n",
    "        raise ValueError('`letter` must be a single character string.')\n",
    "    return len([char for char in content if char == letter])"
   ]
  },
  {
   "cell_type": "markdown",
   "metadata": {},
   "source": [
    "### Exercise 2"
   ]
  },
  {
   "cell_type": "code",
   "execution_count": 12,
   "metadata": {},
   "outputs": [
    {
     "name": "stdout",
     "output_type": "stream",
     "text": [
      "############################\n",
      "Count the number of times `letter` appears in `content`.\n",
      "\n",
      "    Args:\n",
      "        content (str): The string to search.\n",
      "        letter (str): The letter to search for.\n",
      "\n",
      "    Returns:\n",
      "        int\n",
      "\n",
      "    # Add a section detailing what errors might be raised\n",
      "    Raises:\n",
      "        ValueError: If `letter` is not a one-character string.\n",
      "    \n",
      "############################\n"
     ]
    }
   ],
   "source": [
    "# Get the docstring with an attribute of count_letter()\n",
    "docstring = count_letter.__doc__\n",
    "\n",
    "border = '#' * 28\n",
    "print('{}\\n{}\\n{}'.format(border, docstring, border))"
   ]
  },
  {
   "cell_type": "code",
   "execution_count": 13,
   "metadata": {},
   "outputs": [
    {
     "name": "stdout",
     "output_type": "stream",
     "text": [
      "############################\n",
      "Count the number of times `letter` appears in `content`.\n",
      "\n",
      "Args:\n",
      "    content (str): The string to search.\n",
      "    letter (str): The letter to search for.\n",
      "\n",
      "Returns:\n",
      "    int\n",
      "\n",
      "# Add a section detailing what errors might be raised\n",
      "Raises:\n",
      "    ValueError: If `letter` is not a one-character string.\n",
      "############################\n"
     ]
    }
   ],
   "source": [
    "import inspect\n",
    "\n",
    "# Get the docstring with a function from the inspect module\n",
    "docstring = inspect.getdoc(count_letter)\n",
    "\n",
    "border = '#' * 28\n",
    "print('{}\\n{}\\n{}'.format(border, docstring, border))"
   ]
  },
  {
   "cell_type": "code",
   "execution_count": 14,
   "metadata": {},
   "outputs": [
    {
     "name": "stdout",
     "output_type": "stream",
     "text": [
      "############################\n",
      "Count the number of times `letter` appears in `content`.\n",
      "\n",
      "Args:\n",
      "    content (str): The string to search.\n",
      "    letter (str): The letter to search for.\n",
      "\n",
      "Returns:\n",
      "    int\n",
      "\n",
      "# Add a section detailing what errors might be raised\n",
      "Raises:\n",
      "    ValueError: If `letter` is not a one-character string.\n",
      "############################\n",
      "############################\n",
      "range(stop) -> range object\n",
      "range(start, stop[, step]) -> range object\n",
      "\n",
      "Return an object that produces a sequence of integers from start (inclusive)\n",
      "to stop (exclusive) by step.  range(i, j) produces i, i+1, i+2, ..., j-1.\n",
      "start defaults to 0, and stop is omitted!  range(4) produces 0, 1, 2, 3.\n",
      "These are exactly the valid indices for a list of 4 elements.\n",
      "When step is given, it specifies the increment (or decrement).\n",
      "############################\n",
      "############################\n",
      "print(value, ..., sep=' ', end='\\n', file=sys.stdout, flush=False)\n",
      "\n",
      "Prints the values to a stream, or to sys.stdout by default.\n",
      "Optional keyword arguments:\n",
      "file:  a file-like object (stream); defaults to the current sys.stdout.\n",
      "sep:   string inserted between values, default a space.\n",
      "end:   string appended after the last value, default a newline.\n",
      "flush: whether to forcibly flush the stream.\n",
      "############################\n"
     ]
    }
   ],
   "source": [
    "# Use the inspect module again to get the docstring for any function being passed to the build_tooltip() function.\n",
    "\n",
    "def build_tooltip(function):\n",
    "    \"\"\"Create a tooltip for any function that shows the \n",
    "    function's docstring.\n",
    "\n",
    "    Args:\n",
    "        function (callable): The function we want a tooltip for.\n",
    "\n",
    "    Returns:\n",
    "        str\n",
    "    \"\"\"\n",
    "    # Use 'inspect' to get the docstring\n",
    "    docstring = inspect.getdoc(function)\n",
    "    border = '#' * 28\n",
    "    return '{}\\n{}\\n{}'.format(border, docstring, border)\n",
    "\n",
    "print(build_tooltip(count_letter))\n",
    "print(build_tooltip(range))\n",
    "print(build_tooltip(print))"
   ]
  },
  {
   "cell_type": "markdown",
   "metadata": {},
   "source": [
    "## DRY and \"Do One Thing\""
   ]
  },
  {
   "cell_type": "markdown",
   "metadata": {},
   "source": [
    "### Don't repeat yourself (DRY)"
   ]
  },
  {
   "cell_type": "code",
   "execution_count": 16,
   "metadata": {},
   "outputs": [],
   "source": [
    "def load_and_plot(path):\n",
    "    \"\"\"Load a data set and plot the first two principal components. \n",
    "    \n",
    "    Args:   \n",
    "        path (str): The location of a CSV file. \n",
    "        \n",
    "    Returns:   \n",
    "        tuple of ndarray: (features, labels) \n",
    "    \"\"\"\n",
    "    # load the data\n",
    "    data = pd.read_csv(path) \n",
    "    y = data['label'].values \n",
    "    X = data[col for col in train.columns if col != 'label'].values \n",
    "    \n",
    "    # plot the first two principal components\n",
    "    pca = PCA(n_components=2).fit_transform(X) \n",
    "    plt.scatter(pca[:,0], pca[:,1])\n",
    "    \n",
    "    # return loaded dat\n",
    "    return X, y\n",
    "\n",
    "\n",
    "train_X, train_y = load_and_plot('train.csv')\n",
    "val_X, val_y = load_and_plot('validation.csv')\n",
    "test_X, test_y = load_and_plot('test.csv')"
   ]
  },
  {
   "cell_type": "markdown",
   "metadata": {},
   "source": [
    "### Do One Thing"
   ]
  },
  {
   "cell_type": "code",
   "execution_count": null,
   "metadata": {},
   "outputs": [],
   "source": [
    "def load_data(path):\n",
    "    \"\"\"Load a data set. \n",
    "    Args:   \n",
    "        path (str): The location of a CSV file. \n",
    "    \n",
    "    Returns:   \n",
    "        tuple of ndarray: (features, labels) \n",
    "    \"\"\" \n",
    "    data = pd.read_csv(path) \n",
    "    y = data['labels'].values \n",
    "    X = data[col for col in data.columns if col != 'labels'].values\n",
    "    \n",
    "    return X, y\n",
    "\n",
    "\n",
    "def plot_data(X):\n",
    "    \"\"\"Plot the first two principal components of a matrix.\n",
    "    \n",
    "        Args:   \n",
    "            X (numpy.ndarray): The data to plot. \n",
    "    \"\"\" \n",
    "    pca = PCA(n_components=2).fit_transform(X) \n",
    "    plt.scatter(pca[:,0], pca[:,1])"
   ]
  },
  {
   "cell_type": "markdown",
   "metadata": {},
   "source": [
    "## Pass by assignment"
   ]
  },
  {
   "cell_type": "markdown",
   "metadata": {},
   "source": [
    "### surprising example"
   ]
  },
  {
   "cell_type": "markdown",
   "metadata": {},
   "source": [
    "Immutable\n",
    "- int\n",
    "- float\n",
    "- bool\n",
    "- string\n",
    "- bytes\n",
    "- tuple\n",
    "- frozenset\n",
    "- None\n",
    "\n",
    "Mutable\n",
    "- list\n",
    "- dict\n",
    "- set\n",
    "- bytearray\n",
    "- objects\n",
    "- functions\n",
    "- almost everything else!"
   ]
  },
  {
   "cell_type": "code",
   "execution_count": 17,
   "metadata": {},
   "outputs": [
    {
     "name": "stdout",
     "output_type": "stream",
     "text": [
      "[99, 2, 3]\n"
     ]
    }
   ],
   "source": [
    "def foo(x):  \n",
    "    x[0] = 99\n",
    "    \n",
    "my_list = [1, 2, 3]\n",
    "foo(my_list)\n",
    "print(my_list)"
   ]
  },
  {
   "cell_type": "code",
   "execution_count": 19,
   "metadata": {},
   "outputs": [
    {
     "name": "stdout",
     "output_type": "stream",
     "text": [
      "3\n"
     ]
    }
   ],
   "source": [
    "# intergers are Immutable\n",
    "def bar(x):\n",
    "    x = x + 90\n",
    "    \n",
    "my_var = 3\n",
    "bar(my_var)\n",
    "print(my_var)"
   ]
  },
  {
   "cell_type": "markdown",
   "metadata": {},
   "source": [
    "### Mutable default arguments are dangerous"
   ]
  },
  {
   "cell_type": "code",
   "execution_count": 20,
   "metadata": {},
   "outputs": [
    {
     "data": {
      "text/plain": [
       "[1]"
      ]
     },
     "execution_count": 20,
     "metadata": {},
     "output_type": "execute_result"
    }
   ],
   "source": [
    "def foo(var=[]):\n",
    "    var.append(1)\n",
    "    return var\n",
    "\n",
    "foo()"
   ]
  },
  {
   "cell_type": "code",
   "execution_count": 21,
   "metadata": {},
   "outputs": [
    {
     "data": {
      "text/plain": [
       "[1, 1]"
      ]
     },
     "execution_count": 21,
     "metadata": {},
     "output_type": "execute_result"
    }
   ],
   "source": [
    "foo()"
   ]
  },
  {
   "cell_type": "code",
   "execution_count": 22,
   "metadata": {},
   "outputs": [
    {
     "data": {
      "text/plain": [
       "[1]"
      ]
     },
     "execution_count": 22,
     "metadata": {},
     "output_type": "execute_result"
    }
   ],
   "source": [
    "def foo(var=None):\n",
    "    if var is None:\n",
    "        var = []\n",
    "    var.append(1)\n",
    "    return var\n",
    "\n",
    "foo()"
   ]
  },
  {
   "cell_type": "code",
   "execution_count": 23,
   "metadata": {},
   "outputs": [
    {
     "data": {
      "text/plain": [
       "[1]"
      ]
     },
     "execution_count": 23,
     "metadata": {},
     "output_type": "execute_result"
    }
   ],
   "source": [
    "foo()"
   ]
  },
  {
   "cell_type": "markdown",
   "metadata": {},
   "source": [
    "### Best practice for default arguments"
   ]
  },
  {
   "cell_type": "markdown",
   "metadata": {},
   "source": [
    "Bad way to assign mutable default arguments"
   ]
  },
  {
   "cell_type": "code",
   "execution_count": 25,
   "metadata": {},
   "outputs": [],
   "source": [
    "def add_column(values, df=pandas.DataFrame()):\n",
    "    \"\"\"Add a column of `values` to a DataFrame `df`.\n",
    "    The column will be named \"col_<n>\" where \"n\" is\n",
    "    the numerical index of the column.\n",
    "\n",
    "    Args:\n",
    "        values (iterable): The values of the new column\n",
    "        df (DataFrame, optional): The DataFrame to update.\n",
    "          If no DataFrame is passed, one is created by default.\n",
    "\n",
    "    Returns:\n",
    "        DataFrame\n",
    "    \"\"\"\n",
    "    df['col_{}'.format(len(df.columns))] = values\n",
    "    return df"
   ]
  },
  {
   "cell_type": "markdown",
   "metadata": {},
   "source": [
    "Good way to assign mutable default arguments"
   ]
  },
  {
   "cell_type": "code",
   "execution_count": null,
   "metadata": {},
   "outputs": [],
   "source": [
    "# Use an immutable variable for the default argument \n",
    "def better_add_column(values, df=None):\n",
    "    \"\"\"Add a column of `values` to a DataFrame `df`.\n",
    "    The column will be named \"col_<n>\" where \"n\" is\n",
    "    the numerical index of the column.\n",
    "\n",
    "    Args:\n",
    "        values (iterable): The values of the new column\n",
    "        df (DataFrame, optional): The DataFrame to update.\n",
    "        If no DataFrame is passed, one is created by default.\n",
    "\n",
    "    Returns:\n",
    "        DataFrame\n",
    "    \"\"\"\n",
    "    # Update the function to create a default DataFrame\n",
    "    if df is None:\n",
    "        df = pandas.DataFrame()\n",
    "    df['col_{}'.format(len(df.columns))] = values\n",
    "    return df"
   ]
  },
  {
   "cell_type": "markdown",
   "metadata": {},
   "source": [
    "# Context Managers"
   ]
  },
  {
   "cell_type": "markdown",
   "metadata": {},
   "source": [
    "## Using context managers\n",
    "\n",
    "A context manager:\n",
    "- Sets up a context\n",
    "- Runs your code \n",
    "- Removes the context"
   ]
  },
  {
   "cell_type": "code",
   "execution_count": null,
   "metadata": {},
   "outputs": [],
   "source": [
    "with <context-manager>(<args>) as <variable-name>:\n",
    "    # Run your code here\n",
    "    # This code is running \"inside the context\"\n",
    "    \n",
    "# This code runs after the context is removed"
   ]
  },
  {
   "cell_type": "markdown",
   "metadata": {},
   "source": [
    "### A real-world example\n",
    "\n",
    "`open()` does three things: \n",
    "- Sets up a context by opening a file\n",
    "- Lets you run any code you want on that file\n",
    "- Removes the context by closing thele"
   ]
  },
  {
   "cell_type": "code",
   "execution_count": null,
   "metadata": {},
   "outputs": [],
   "source": [
    "with open('my_file.txt') as my_file:\n",
    "    text = my_file.read()\n",
    "    length = len(text)\n",
    "    \n",
    "print('The file is {} characters long'.format(length))"
   ]
  },
  {
   "cell_type": "markdown",
   "metadata": {},
   "source": [
    "### Exercise: The speed of cats"
   ]
  },
  {
   "cell_type": "code",
   "execution_count": null,
   "metadata": {},
   "outputs": [],
   "source": [
    "image = get_image_from_instagram()\n",
    "\n",
    "# Time how long process_with_numpy(image) takes to run\n",
    "with timer():\n",
    "    print('Numpy version')\n",
    "    process_with_numpy(image)\n",
    "\n",
    "# Time how long process_with_pytorch(image) takes to run\n",
    "with timer():\n",
    "    print('Pytorch version')\n",
    "    process_with_pytorch(image)\n",
    "    \n",
    "Numpy version\n",
    "Processing..........done!\n",
    "Elapsed: 1.52 seconds\n",
    "Pytorch version\n",
    "Processing..........done!\n",
    "Elapsed: 0.33 seconds"
   ]
  },
  {
   "cell_type": "markdown",
   "metadata": {},
   "source": [
    "## Writing context managers"
   ]
  },
  {
   "cell_type": "markdown",
   "metadata": {},
   "source": [
    "Two ways to define a context manager\n",
    "- Class-based\n",
    "- **Function-based**"
   ]
  },
  {
   "cell_type": "markdown",
   "metadata": {},
   "source": [
    "### How to create a context manager\n",
    "\n",
    "1. Define a function.\n",
    "2. (optional) Add any set up code your context needs.\n",
    "3. Use the \"yield\" keyword.\n",
    "4. (optional) Add any teardown code your context needs.\n",
    "5. Add the @contextlib.contextmanager decorator."
   ]
  },
  {
   "cell_type": "code",
   "execution_count": 31,
   "metadata": {},
   "outputs": [],
   "source": [
    "import contextlib\n",
    "from contextlib import contextmanager\n",
    "\n",
    "@contextlib.contextmanager\n",
    "def my_context():\n",
    "    # Add any set up code you need\n",
    "    yield\n",
    "    # Add any teardown code you need"
   ]
  },
  {
   "cell_type": "markdown",
   "metadata": {},
   "source": [
    "### The \"yield\" keyword"
   ]
  },
  {
   "cell_type": "code",
   "execution_count": 34,
   "metadata": {},
   "outputs": [
    {
     "name": "stdout",
     "output_type": "stream",
     "text": [
      "hello\n",
      "foo is 42\n",
      "goodbye\n"
     ]
    }
   ],
   "source": [
    "@contextlib.contextmanager\n",
    "def my_context():  \n",
    "    print('hello')\n",
    "    yield 42  # The value that your contex manager yields can be assigned to a variable in the \"with\" statement by adding\"as\" variable name.\n",
    "    print('goodbye')\n",
    "    \n",
    "with my_context() as foo:  \n",
    "    print('foo is {}'.format(foo))"
   ]
  },
  {
   "cell_type": "markdown",
   "metadata": {},
   "source": [
    "### Setup and teardown"
   ]
  },
  {
   "cell_type": "code",
   "execution_count": 36,
   "metadata": {},
   "outputs": [],
   "source": [
    "@contextlib.contextmanager\n",
    "def database(url):\n",
    "    # set up database connection  \n",
    "    db = postgres.connect(url)\n",
    "    yield db  # yields the database connection\n",
    "    \n",
    "    # tear down database connection  \n",
    "    db.disconnect()\n",
    "    \n",
    "\n",
    "url = 'http://datacamp.com/data'\n",
    "with database(url) as my_db:  \n",
    "    course_list = my_db.execute('SELECT * FROM courses')"
   ]
  },
  {
   "cell_type": "markdown",
   "metadata": {},
   "source": [
    "### Yielding a value or None"
   ]
  },
  {
   "cell_type": "code",
   "execution_count": 38,
   "metadata": {},
   "outputs": [],
   "source": [
    "# context manager that changes the current working directory to a specific path and the change it back after the context block is done.\n",
    "# It does not need to return anything with \"yield\" statement\n",
    "@contextlib.contextmanager\n",
    "def in_dir(path): \n",
    "    # save current working directory \n",
    "    old_dir = os.getcwd()\n",
    "    \n",
    "    # switch to new working directory \n",
    "    os.chdir(path)\n",
    "    \n",
    "    yield  # not yield explicit value\n",
    "    \n",
    "    # change back to previous\n",
    "    # working directory \n",
    "    os.chdir(old_dir)\n",
    "    \n",
    "    \n",
    "with in_dir('/data/project_1/'):  # not yield a value\n",
    "    project_files = os.listdir()"
   ]
  },
  {
   "cell_type": "markdown",
   "metadata": {},
   "source": [
    "### Exercise: The timer() context manager"
   ]
  },
  {
   "cell_type": "code",
   "execution_count": 40,
   "metadata": {},
   "outputs": [],
   "source": [
    "# Add a decorator that will make timer() a context manager\n",
    "@contextlib.contextmanager\n",
    "def timer():\n",
    "    \"\"\"Time the execution of a context block.\n",
    "\n",
    "    Yields:\n",
    "      None\n",
    "    \"\"\"\n",
    "    start = time.time()\n",
    "    # Send control back to the context block\n",
    "    yield\n",
    "    end = time.time()\n",
    "    print('Elapsed: {:.2f}s'.format(end - start))\n",
    "\n",
    "with timer():\n",
    "    print('This should take approximately 0.25 seconds')\n",
    "    time.sleep(0.25)\n",
    "    \n",
    "This should take approximately 0.25 seconds\n",
    "Elapsed: 0.25s"
   ]
  },
  {
   "cell_type": "markdown",
   "metadata": {},
   "source": [
    "### Exercise: A read-only open() context manager\n",
    "\n",
    "The regular `open()` context manager:\n",
    "\n",
    "- takes a filename and a mode (`'r'` for read, `'w'` for write, or `'a'` for append)\n",
    "- opens the file for reading, writing, or appending\n",
    "- sends control back to the context, along with a reference to the file\n",
    "- waits for the context to finish\n",
    "- and then closes the file before exiting"
   ]
  },
  {
   "cell_type": "code",
   "execution_count": 42,
   "metadata": {},
   "outputs": [],
   "source": [
    "@contextlib.contextmanager\n",
    "def open_read_only(filename):\n",
    "    \"\"\"Open a file in read-only mode.\n",
    "\n",
    "    Args:\n",
    "        filename (str): The location of the file to read\n",
    "\n",
    "    Yields:\n",
    "        file object\n",
    "    \"\"\"\n",
    "    read_only_file = open(filename, mode='r')\n",
    "    # Yield read_only_file so it can be assigned to my_file\n",
    "    yield read_only_file\n",
    "    # Close read_only_file\n",
    "    read_only_file.close()\n",
    "\n",
    "with open_read_only('my_file.txt') as my_file:\n",
    "    print(my_file.read())"
   ]
  },
  {
   "cell_type": "markdown",
   "metadata": {},
   "source": [
    "## Advanced topics"
   ]
  },
  {
   "cell_type": "markdown",
   "metadata": {},
   "source": [
    "### Nested contexts"
   ]
  },
  {
   "cell_type": "markdown",
   "metadata": {},
   "source": [
    "This approach works fine until you try to copy a file that is too large to fit in memory"
   ]
  },
  {
   "cell_type": "code",
   "execution_count": null,
   "metadata": {},
   "outputs": [],
   "source": [
    "def copy(src, dst):\n",
    "    \"\"\"Copy the contents of one file to another. \n",
    "    \n",
    "    Args:   \n",
    "        src (str): File name of the file to be copied.   \n",
    "        dst (str): Where to write the new file. \n",
    "    \"\"\"\n",
    "    \n",
    "    # Open the source file and read in the contents\n",
    "    with open(src) as f_src:\n",
    "        contents = f_src.read()\n",
    "        \n",
    "    # Open the destination file and write out the contents\n",
    "    with open(dst, 'w') as f_dst:   \n",
    "        f_dst.write(contents)"
   ]
  },
  {
   "cell_type": "markdown",
   "metadata": {},
   "source": [
    "Ideal: open both files at once and copy over oneline at a time."
   ]
  },
  {
   "cell_type": "code",
   "execution_count": 46,
   "metadata": {},
   "outputs": [],
   "source": [
    "with open('my_file.txt') as my_file:\n",
    "    for line in my_file:\n",
    "        # do something"
   ]
  },
  {
   "cell_type": "code",
   "execution_count": 48,
   "metadata": {},
   "outputs": [],
   "source": [
    "def copy(src, dst):\n",
    "    \"\"\"Copy the contents of one file to another. \n",
    "    \n",
    "    Args:   \n",
    "        src (str): File name of the file to be copied.   \n",
    "        dst (str): Where to write the new file. \n",
    "    \"\"\"\n",
    "    # Open both files\n",
    "    with open(src) as f_src:\n",
    "        with open(dst, 'w') as f_dst:\n",
    "            # Read and write each line, one at a time\n",
    "            for line in f_src:       \n",
    "                f_dst.write(line)"
   ]
  },
  {
   "cell_type": "markdown",
   "metadata": {},
   "source": [
    "### Handling errors"
   ]
  },
  {
   "cell_type": "markdown",
   "metadata": {},
   "source": [
    "No handling errors"
   ]
  },
  {
   "cell_type": "code",
   "execution_count": 50,
   "metadata": {},
   "outputs": [],
   "source": [
    "def get_printer(ip): \n",
    "    p = connect_to_printer(ip)\n",
    "    \n",
    "    yield\n",
    "    \n",
    "    # This MUST be called or no one else will\n",
    "    # be able to connect to the printer \n",
    "    p.disconnect() \n",
    "    print('disconnected from printer')\n",
    "    \n",
    "doc = {'text': 'This is my text.'}\n",
    "\n",
    "with get_printer('10.0.34.111') as printer: \n",
    "    printer.print_page(doc['txt'])\n",
    "    \n",
    "\n",
    "Traceback (most recent call last):  \n",
    "    File \"<stdin>\", line 1, in <module>    \n",
    "        printer.print_page(doc['txt'])\n",
    "KeyError: 'txt'"
   ]
  },
  {
   "cell_type": "markdown",
   "metadata": {},
   "source": [
    "with handling errors"
   ]
  },
  {
   "cell_type": "code",
   "execution_count": 52,
   "metadata": {},
   "outputs": [],
   "source": [
    "try:\n",
    "    # code that might raise an error\n",
    "except:\n",
    "    # do something about the error\n",
    "finally:\n",
    "    # this code runs no matter what"
   ]
  },
  {
   "cell_type": "code",
   "execution_count": 55,
   "metadata": {},
   "outputs": [],
   "source": [
    "def get_printer(ip):  \n",
    "    p = connect_to_printer(ip)\n",
    "    \n",
    "    try:\n",
    "        yield\n",
    "    finally:    \n",
    "        p.disconnect()    \n",
    "        print('disconnected from printer')\n",
    "        \n",
    "        \n",
    "doc = {'text': 'This is my text.'}\n",
    "\n",
    "with get_printer('10.0.34.111') as printer:  \n",
    "    printer.print_page(doc['txt'])\n",
    "    \n",
    "    \n",
    "disconnected from printer\n",
    "Traceback (most recent call last):  \n",
    "    File \"<stdin>\", line 1, in <module>    \n",
    "        printer.print_page(doc['txt'])\n",
    "KeyError: 'txt'"
   ]
  },
  {
   "cell_type": "markdown",
   "metadata": {},
   "source": [
    "### Context manager patterns\n",
    "\n",
    "|         |            |\n",
    "|---------|------------|\n",
    "| Open    | Close      |\n",
    "| Lock    | Release    |\n",
    "| Change  | Reset      |\n",
    "| Enter   | Exit       |\n",
    "| Start   | Stop       |\n",
    "| Setup   | Teardown   |\n",
    "| Connect | Disconnect |\n",
    "\n",
    "\n"
   ]
  },
  {
   "cell_type": "markdown",
   "metadata": {},
   "source": [
    "### Exercise: Scraping the NASDAQ\n",
    "\n",
    "The context manager `stock('NVDA')` will connect to the NASDAQ and return an object that you can use to get the latest price by calling its `.price()` method.\n",
    "\n",
    "You want to connect to `stock('NVDA')` and record 10 timesteps of price data by writing it to the file `NVDA.txt`."
   ]
  },
  {
   "cell_type": "code",
   "execution_count": null,
   "metadata": {},
   "outputs": [],
   "source": [
    "# Use the \"stock('NVDA')\" context manager\n",
    "# and assign the result to the variable \"nvda\"\n",
    "with stock('NVDA') as nvda:\n",
    "    # Open \"NVDA.txt\" for writing as f_out\n",
    "    with open('NVDA.txt', 'w') as f_out:\n",
    "        for price in range(10):\n",
    "            value = nvda.price()\n",
    "            print('Logging ${:.2f} for NVDA'.format(value))\n",
    "            f_out.write('{:.2f}\\n'.format(value))"
   ]
  },
  {
   "cell_type": "markdown",
   "metadata": {},
   "source": [
    "### Exercise: Changing the working directory"
   ]
  },
  {
   "cell_type": "code",
   "execution_count": 56,
   "metadata": {},
   "outputs": [],
   "source": [
    "def in_dir(directory):\n",
    "    \"\"\"Change current working directory to `directory`,\n",
    "    allow the user to run some code, and change back.\n",
    "\n",
    "    Args:\n",
    "        directory (str): The path to a directory to work in.\n",
    "    \"\"\"\n",
    "    current_dir = os.getcwd()\n",
    "    os.chdir(directory)\n",
    "\n",
    "    # Add code that lets you handle errors\n",
    "    try:\n",
    "        yield\n",
    "        # Ensure the directory is reset,\n",
    "        # whether there was an error or not\n",
    "    finally:\n",
    "        os.chdir(current_dir)"
   ]
  },
  {
   "cell_type": "markdown",
   "metadata": {},
   "source": [
    "# Decorators\n",
    "[Python 函数装饰器](https://www.runoob.com/w3cnote/python-func-decorators.html)"
   ]
  },
  {
   "cell_type": "markdown",
   "metadata": {},
   "source": [
    "## Functions are objects"
   ]
  },
  {
   "cell_type": "markdown",
   "metadata": {},
   "source": [
    "### Functions are just another type of object"
   ]
  },
  {
   "cell_type": "markdown",
   "metadata": {},
   "source": [
    "Python objects:"
   ]
  },
  {
   "cell_type": "code",
   "execution_count": 59,
   "metadata": {},
   "outputs": [],
   "source": [
    "def x():\n",
    "    pass\n",
    "x = [1, 2, 3]\n",
    "x = {'foo': 42}\n",
    "x = pandas.DataFrame()\n",
    "x = 'This is a sentence.'\n",
    "x = 3\n",
    "x = 71.2\n",
    "import x"
   ]
  },
  {
   "cell_type": "markdown",
   "metadata": {},
   "source": [
    "### Functions as variables"
   ]
  },
  {
   "cell_type": "code",
   "execution_count": 60,
   "metadata": {},
   "outputs": [
    {
     "data": {
      "text/plain": [
       "function"
      ]
     },
     "execution_count": 60,
     "metadata": {},
     "output_type": "execute_result"
    }
   ],
   "source": [
    "def my_function():  \n",
    "    print('Hello')\n",
    "x = my_function\n",
    "type(x)"
   ]
  },
  {
   "cell_type": "code",
   "execution_count": 62,
   "metadata": {},
   "outputs": [
    {
     "data": {
      "text/plain": [
       "<function __main__.my_function()>"
      ]
     },
     "execution_count": 62,
     "metadata": {},
     "output_type": "execute_result"
    }
   ],
   "source": [
    "x"
   ]
  },
  {
   "cell_type": "code",
   "execution_count": 63,
   "metadata": {},
   "outputs": [
    {
     "name": "stdout",
     "output_type": "stream",
     "text": [
      "Hello\n"
     ]
    }
   ],
   "source": [
    "x()"
   ]
  },
  {
   "cell_type": "code",
   "execution_count": 64,
   "metadata": {},
   "outputs": [
    {
     "name": "stdout",
     "output_type": "stream",
     "text": [
      "Python is awesome!\n"
     ]
    }
   ],
   "source": [
    "PrintyMcPrintface = print\n",
    "PrintyMcPrintface('Python is awesome!')"
   ]
  },
  {
   "cell_type": "markdown",
   "metadata": {},
   "source": [
    "### Lists and dictionaries of functions"
   ]
  },
  {
   "cell_type": "code",
   "execution_count": 65,
   "metadata": {},
   "outputs": [
    {
     "name": "stdout",
     "output_type": "stream",
     "text": [
      "I am printing with an element of a list!\n"
     ]
    }
   ],
   "source": [
    "list_of_functions = [my_function, open, print]\n",
    "list_of_functions[2]('I am printing with an element of a list!')"
   ]
  },
  {
   "cell_type": "code",
   "execution_count": 66,
   "metadata": {},
   "outputs": [
    {
     "name": "stdout",
     "output_type": "stream",
     "text": [
      "I am printing with a value of a dict!\n"
     ]
    }
   ],
   "source": [
    "dict_of_functions = {\n",
    "    'func1': my_function,\n",
    "    'func2': open,\n",
    "    'func3': print\n",
    "}\n",
    "dict_of_functions['func3']('I am printing with a value of a dict!')"
   ]
  },
  {
   "cell_type": "markdown",
   "metadata": {},
   "source": [
    "### Referencing a function"
   ]
  },
  {
   "cell_type": "code",
   "execution_count": 67,
   "metadata": {},
   "outputs": [
    {
     "data": {
      "text/plain": [
       "42"
      ]
     },
     "execution_count": 67,
     "metadata": {},
     "output_type": "execute_result"
    }
   ],
   "source": [
    "def my_function():\n",
    "    return 42\n",
    "\n",
    "x = my_function\n",
    "my_function()"
   ]
  },
  {
   "cell_type": "code",
   "execution_count": 71,
   "metadata": {},
   "outputs": [
    {
     "data": {
      "text/plain": [
       "<function __main__.my_function()>"
      ]
     },
     "execution_count": 71,
     "metadata": {},
     "output_type": "execute_result"
    }
   ],
   "source": [
    "my_function"
   ]
  },
  {
   "cell_type": "markdown",
   "metadata": {},
   "source": [
    "### Functions as arguments"
   ]
  },
  {
   "cell_type": "code",
   "execution_count": 72,
   "metadata": {},
   "outputs": [],
   "source": [
    "def has_docstring(func):\n",
    "    \"\"\"Check to see if the function  `func` has a docstring. \n",
    "    \n",
    "    Args:   \n",
    "        func (callable): A function. \n",
    "        \n",
    "    Returns:   \n",
    "        bool \n",
    "    \"\"\"\n",
    "    return func.__doc__ is not None"
   ]
  },
  {
   "cell_type": "code",
   "execution_count": 73,
   "metadata": {},
   "outputs": [
    {
     "data": {
      "text/plain": [
       "False"
      ]
     },
     "execution_count": 73,
     "metadata": {},
     "output_type": "execute_result"
    }
   ],
   "source": [
    "def no():\n",
    "    return 42\n",
    "\n",
    "def yes():\n",
    "    \"\"\"Return the value 42 \"\"\"\n",
    "    return 42\n",
    "\n",
    "has_docstring(no)"
   ]
  },
  {
   "cell_type": "code",
   "execution_count": 75,
   "metadata": {},
   "outputs": [
    {
     "data": {
      "text/plain": [
       "True"
      ]
     },
     "execution_count": 75,
     "metadata": {},
     "output_type": "execute_result"
    }
   ],
   "source": [
    "has_docstring(yes)"
   ]
  },
  {
   "cell_type": "markdown",
   "metadata": {},
   "source": [
    "### Defining a function inside another function"
   ]
  },
  {
   "cell_type": "code",
   "execution_count": 76,
   "metadata": {},
   "outputs": [],
   "source": [
    "def foo():\n",
    "    x = [3, 6, 9]\n",
    "    \n",
    "    def bar(y):    \n",
    "        print(y)\n",
    "        \n",
    "    for value in x:\n",
    "        bar(x)"
   ]
  },
  {
   "cell_type": "code",
   "execution_count": 79,
   "metadata": {},
   "outputs": [],
   "source": [
    "def foo(x, y):\n",
    "    if x > 4 and x < 10 and y > 4 and y < 10:    \n",
    "        print(x * y)\n",
    "        \n",
    "        \n",
    "        \n",
    "def foo(x, y):\n",
    "    def in_range(v):\n",
    "        return v > 4 and v < 10 \n",
    "    \n",
    "    if in_range(x) and in_range(y):    \n",
    "        print(x * y)"
   ]
  },
  {
   "cell_type": "code",
   "execution_count": 80,
   "metadata": {},
   "outputs": [
    {
     "name": "stdout",
     "output_type": "stream",
     "text": [
      "This is a sentence.\n"
     ]
    }
   ],
   "source": [
    "def get_function():\n",
    "    def print_me(s):   \n",
    "        print(s)\n",
    "    \n",
    "    return print_me\n",
    "\n",
    "new_func = get_function()\n",
    "new_func('This is a sentence.')"
   ]
  },
  {
   "cell_type": "markdown",
   "metadata": {},
   "source": [
    "## Scope"
   ]
  },
  {
   "cell_type": "code",
   "execution_count": 81,
   "metadata": {},
   "outputs": [
    {
     "name": "stdout",
     "output_type": "stream",
     "text": [
      "7\n"
     ]
    }
   ],
   "source": [
    "x = 7\n",
    "y = 200\n",
    "print(x)"
   ]
  },
  {
   "cell_type": "code",
   "execution_count": 82,
   "metadata": {},
   "outputs": [
    {
     "name": "stdout",
     "output_type": "stream",
     "text": [
      "42\n",
      "200\n"
     ]
    }
   ],
   "source": [
    "def foo():    \n",
    "    x = 42    \n",
    "    print(x)    \n",
    "    print(y)\n",
    "    \n",
    "foo()"
   ]
  },
  {
   "cell_type": "code",
   "execution_count": 83,
   "metadata": {},
   "outputs": [
    {
     "name": "stdout",
     "output_type": "stream",
     "text": [
      "7\n"
     ]
    }
   ],
   "source": [
    "print(x)"
   ]
  },
  {
   "cell_type": "markdown",
   "metadata": {},
   "source": [
    "### The global keyword"
   ]
  },
  {
   "cell_type": "code",
   "execution_count": 85,
   "metadata": {},
   "outputs": [
    {
     "name": "stdout",
     "output_type": "stream",
     "text": [
      "42\n"
     ]
    }
   ],
   "source": [
    "x = 7\n",
    "\n",
    "def foo():  \n",
    "    x = 42  \n",
    "    print(x)\n",
    "    \n",
    "foo()"
   ]
  },
  {
   "cell_type": "code",
   "execution_count": 87,
   "metadata": {},
   "outputs": [
    {
     "name": "stdout",
     "output_type": "stream",
     "text": [
      "7\n"
     ]
    }
   ],
   "source": [
    "print(x)"
   ]
  },
  {
   "cell_type": "code",
   "execution_count": 88,
   "metadata": {},
   "outputs": [
    {
     "name": "stdout",
     "output_type": "stream",
     "text": [
      "42\n"
     ]
    }
   ],
   "source": [
    "x = 7\n",
    "\n",
    "def foo():\n",
    "    global x  \n",
    "    x = 42  \n",
    "    print(x)\n",
    "    \n",
    "foo()"
   ]
  },
  {
   "cell_type": "code",
   "execution_count": 89,
   "metadata": {},
   "outputs": [
    {
     "name": "stdout",
     "output_type": "stream",
     "text": [
      "42\n"
     ]
    }
   ],
   "source": [
    "print(x)"
   ]
  },
  {
   "cell_type": "markdown",
   "metadata": {},
   "source": [
    "### The nonlocal keyword\n",
    "You should try to avoid using `global` variables if possible, because it can make testing and debugging harder.\n",
    "The `nonlocal` keyword works exactly the same as the `global` key word, but it is used whenyou are inside a nested function, and you want to update a variable that is defined inside your parent function."
   ]
  },
  {
   "cell_type": "code",
   "execution_count": 90,
   "metadata": {},
   "outputs": [
    {
     "name": "stdout",
     "output_type": "stream",
     "text": [
      "200\n",
      "10\n"
     ]
    }
   ],
   "source": [
    "def foo():  \n",
    "    x = 10\n",
    "    \n",
    "    def bar():    \n",
    "        x = 200    \n",
    "        print(x)  \n",
    "        \n",
    "    bar()  \n",
    "    print(x)\n",
    "    \n",
    "foo()"
   ]
  },
  {
   "cell_type": "code",
   "execution_count": 91,
   "metadata": {},
   "outputs": [
    {
     "name": "stdout",
     "output_type": "stream",
     "text": [
      "200\n",
      "200\n"
     ]
    }
   ],
   "source": [
    "def foo():  \n",
    "    x = 10\n",
    "    \n",
    "    def bar():\n",
    "        nonlocal x\n",
    "        x = 200    \n",
    "        print(x)  \n",
    "        \n",
    "    bar()  \n",
    "    print(x)\n",
    "    \n",
    "foo()"
   ]
  },
  {
   "cell_type": "code",
   "execution_count": 92,
   "metadata": {},
   "outputs": [
    {
     "name": "stdout",
     "output_type": "stream",
     "text": [
      "50\n",
      "30\n",
      "100\n",
      "30\n"
     ]
    }
   ],
   "source": [
    "x = 50\n",
    "\n",
    "def one():\n",
    "    x = 10\n",
    "\n",
    "def two():\n",
    "    global x\n",
    "    x = 30\n",
    "\n",
    "def three():\n",
    "    x = 100\n",
    "    print(x)\n",
    "\n",
    "for func in [one, two, three]:\n",
    "    func()\n",
    "    print(x)"
   ]
  },
  {
   "cell_type": "markdown",
   "metadata": {},
   "source": [
    "## Closures\n",
    "\n",
    "A closure in Python is a tuple of variables that are no longer in scope, but that a function needs in order to run."
   ]
  },
  {
   "cell_type": "markdown",
   "metadata": {},
   "source": [
    "### Attaching nonlocal variables to nested functions"
   ]
  },
  {
   "cell_type": "code",
   "execution_count": 94,
   "metadata": {},
   "outputs": [
    {
     "name": "stdout",
     "output_type": "stream",
     "text": [
      "5\n"
     ]
    }
   ],
   "source": [
    "def foo(): \n",
    "    a = 5\n",
    "    def bar():\n",
    "        print(a)\n",
    "    return bar\n",
    "\n",
    "func = foo()\n",
    "\n",
    "func()"
   ]
  },
  {
   "cell_type": "code",
   "execution_count": 95,
   "metadata": {},
   "outputs": [
    {
     "data": {
      "text/plain": [
       "tuple"
      ]
     },
     "execution_count": 95,
     "metadata": {},
     "output_type": "execute_result"
    }
   ],
   "source": [
    "type(func.__closure__)"
   ]
  },
  {
   "cell_type": "code",
   "execution_count": 96,
   "metadata": {},
   "outputs": [
    {
     "data": {
      "text/plain": [
       "1"
      ]
     },
     "execution_count": 96,
     "metadata": {},
     "output_type": "execute_result"
    }
   ],
   "source": [
    "len(func.__closure__)"
   ]
  },
  {
   "cell_type": "code",
   "execution_count": 97,
   "metadata": {},
   "outputs": [
    {
     "data": {
      "text/plain": [
       "5"
      ]
     },
     "execution_count": 97,
     "metadata": {},
     "output_type": "execute_result"
    }
   ],
   "source": [
    "func.__closure__[0].cell_contents"
   ]
  },
  {
   "cell_type": "markdown",
   "metadata": {},
   "source": [
    "### Closures and deletion"
   ]
  },
  {
   "cell_type": "code",
   "execution_count": 98,
   "metadata": {},
   "outputs": [
    {
     "name": "stdout",
     "output_type": "stream",
     "text": [
      "25\n"
     ]
    }
   ],
   "source": [
    "x = 25 # x is defined in the gloabl scope\n",
    "\n",
    "def foo(value):\n",
    "    def bar():   \n",
    "        print(value)\n",
    "    return bar\n",
    "\n",
    "my_func = foo(x)\n",
    "my_func() # print the value x"
   ]
  },
  {
   "cell_type": "code",
   "execution_count": 99,
   "metadata": {},
   "outputs": [
    {
     "name": "stdout",
     "output_type": "stream",
     "text": [
      "25\n"
     ]
    }
   ],
   "source": [
    "# delete x and call my_func again, it would still print 25. \n",
    "# Because foo()'s value argument gets added to the closure attached to the new my_func function.\n",
    "# So even though x doesn't exist anymore, thevalue persists in its closure\n",
    "del(x)\n",
    "my_func() "
   ]
  },
  {
   "cell_type": "code",
   "execution_count": 101,
   "metadata": {},
   "outputs": [
    {
     "data": {
      "text/plain": [
       "1"
      ]
     },
     "execution_count": 101,
     "metadata": {},
     "output_type": "execute_result"
    }
   ],
   "source": [
    "len(my_func.__closure__)"
   ]
  },
  {
   "cell_type": "code",
   "execution_count": 103,
   "metadata": {},
   "outputs": [
    {
     "data": {
      "text/plain": [
       "25"
      ]
     },
     "execution_count": 103,
     "metadata": {},
     "output_type": "execute_result"
    }
   ],
   "source": [
    "my_func.__closure__[0].cell_contents"
   ]
  },
  {
   "cell_type": "markdown",
   "metadata": {},
   "source": [
    "### Closures and overwriting"
   ]
  },
  {
   "cell_type": "code",
   "execution_count": 104,
   "metadata": {},
   "outputs": [
    {
     "name": "stdout",
     "output_type": "stream",
     "text": [
      "25\n"
     ]
    }
   ],
   "source": [
    "# pass x into foo() and then assigned the new function to the variable x. \n",
    "# The old value of x 25 is still stored in the new function's closure. \n",
    "# even though the new function is now stores in the x variable\n",
    "x = 25\n",
    "\n",
    "def foo(value):\n",
    "    def bar():   \n",
    "        print(value)\n",
    "    return bar\n",
    "\n",
    "x = foo(x)\n",
    "x() "
   ]
  },
  {
   "cell_type": "code",
   "execution_count": 105,
   "metadata": {},
   "outputs": [
    {
     "data": {
      "text/plain": [
       "1"
      ]
     },
     "execution_count": 105,
     "metadata": {},
     "output_type": "execute_result"
    }
   ],
   "source": [
    "len(x.__closure__)"
   ]
  },
  {
   "cell_type": "code",
   "execution_count": 106,
   "metadata": {},
   "outputs": [
    {
     "data": {
      "text/plain": [
       "25"
      ]
     },
     "execution_count": 106,
     "metadata": {},
     "output_type": "execute_result"
    }
   ],
   "source": [
    "x.__closure__[0].cell_contents"
   ]
  },
  {
   "cell_type": "markdown",
   "metadata": {},
   "source": [
    "## Why does all of this matter?"
   ]
  },
  {
   "cell_type": "markdown",
   "metadata": {},
   "source": [
    "Decorators use:\n",
    "- Functions as objects\n",
    "- Nested functions\n",
    "- Nonlocal scope\n",
    "- Closures"
   ]
  },
  {
   "cell_type": "markdown",
   "metadata": {},
   "source": [
    "Nested function: A function dened inside another function"
   ]
  },
  {
   "cell_type": "code",
   "execution_count": 107,
   "metadata": {},
   "outputs": [],
   "source": [
    "# outer function\n",
    "def parent():\n",
    "    # nested function\n",
    "    def child():\n",
    "        pass\n",
    "    return child"
   ]
  },
  {
   "cell_type": "markdown",
   "metadata": {},
   "source": [
    "Nonlocal variables: Variables dened in the parent function that are used by the child function"
   ]
  },
  {
   "cell_type": "code",
   "execution_count": 108,
   "metadata": {},
   "outputs": [],
   "source": [
    "def parent(arg_1, arg_2):\n",
    "    # From child()'s point of view,\n",
    "    # `value` and `my_dict` are nonlocal variables,\n",
    "    # as are `arg_1` and `arg_2`.  \n",
    "    value = 22  \n",
    "    my_dict = {'chocolate': 'yummy'}\n",
    "    \n",
    "    def child():    \n",
    "        print(2 * value)    \n",
    "        print(my_dict['chocolate'])    \n",
    "        print(arg_1 + arg_2)\n",
    "        \n",
    "    return child"
   ]
  },
  {
   "cell_type": "markdown",
   "metadata": {},
   "source": [
    "Closure: Nonlocal variables attached to a returned function"
   ]
  },
  {
   "cell_type": "code",
   "execution_count": 109,
   "metadata": {},
   "outputs": [
    {
     "name": "stdout",
     "output_type": "stream",
     "text": [
      "[3, 4, {'chocolate': 'yummy'}, 22]\n"
     ]
    }
   ],
   "source": [
    "def parent(arg_1, arg_2):  \n",
    "    value = 22 \n",
    "    my_dict = {'chocolate': 'yummy'}\n",
    "    def child():    \n",
    "        print(2 * value)    \n",
    "        print(my_dict['chocolate'])    \n",
    "        print(arg_1 + arg_2)\n",
    "        \n",
    "    return child\n",
    "\n",
    "new_function = parent(3, 4)\n",
    "\n",
    "print([cell.cell_contents for cell in new_function.__closure__])"
   ]
  },
  {
   "cell_type": "markdown",
   "metadata": {},
   "source": [
    "## Decorators"
   ]
  },
  {
   "cell_type": "markdown",
   "metadata": {},
   "source": [
    "### The double_args decorator"
   ]
  },
  {
   "cell_type": "code",
   "execution_count": 114,
   "metadata": {},
   "outputs": [
    {
     "data": {
      "text/plain": [
       "20"
      ]
     },
     "execution_count": 114,
     "metadata": {},
     "output_type": "execute_result"
    }
   ],
   "source": [
    "def multiply(a, b):\n",
    "    return a * b\n",
    "def double_args(func):\n",
    "    def wrapper(a, b):\n",
    "        # Call the passed in function, but double each argument\n",
    "        return func(a * 2, b * 2)\n",
    "    return wrapper\n",
    "\n",
    "# assign the new function to \"new_multiply\"\n",
    "new_multiply = double_args(multiply)\n",
    "new_multiply(1, 5)"
   ]
  },
  {
   "cell_type": "code",
   "execution_count": 115,
   "metadata": {},
   "outputs": [
    {
     "data": {
      "text/plain": [
       "5"
      ]
     },
     "execution_count": 115,
     "metadata": {},
     "output_type": "execute_result"
    }
   ],
   "source": [
    "multiply(1, 5)"
   ]
  },
  {
   "cell_type": "code",
   "execution_count": 116,
   "metadata": {},
   "outputs": [
    {
     "data": {
      "text/plain": [
       "20"
      ]
     },
     "execution_count": 116,
     "metadata": {},
     "output_type": "execute_result"
    }
   ],
   "source": [
    "def multiply(a, b):\n",
    "    return a * b\n",
    "def double_args(func):\n",
    "    def wrapper(a, b):\n",
    "        # Call the passed in function, but double each argument\n",
    "        return func(a * 2, b * 2)\n",
    "    return wrapper\n",
    "\n",
    "# instead of assign the new function to \"new_multiply\", we're going to overwrite the \"multiply\" varable\n",
    "# we can do this because Python stores the orignial multipy function in the new function's closure\n",
    "multiply = double_args(multiply)\n",
    "multiply(1, 5)"
   ]
  },
  {
   "cell_type": "markdown",
   "metadata": {},
   "source": [
    "### Decorator syntax"
   ]
  },
  {
   "cell_type": "code",
   "execution_count": 117,
   "metadata": {},
   "outputs": [
    {
     "data": {
      "text/plain": [
       "20"
      ]
     },
     "execution_count": 117,
     "metadata": {},
     "output_type": "execute_result"
    }
   ],
   "source": [
    "def double_args(func):\n",
    "    def wrapper(a, b):\n",
    "        return func(a * 2, b * 2)\n",
    "    return wrapper\n",
    "\n",
    "@double_args\n",
    "def multiply(a, b):\n",
    "    return a * b\n",
    "\n",
    "multiply(1, 5)"
   ]
  },
  {
   "cell_type": "markdown",
   "metadata": {},
   "source": [
    "### Exercise: Defining a decorator"
   ]
  },
  {
   "cell_type": "code",
   "execution_count": 120,
   "metadata": {},
   "outputs": [
    {
     "name": "stdout",
     "output_type": "stream",
     "text": [
      "Before multiply\n",
      "50\n",
      "After multiply\n"
     ]
    }
   ],
   "source": [
    "def print_before_and_after(func):\n",
    "    def wrapper(*args):\n",
    "        print('Before {}'.format(func.__name__))\n",
    "        # Call the function being decorated with *args\n",
    "        func(*args)\n",
    "        print('After {}'.format(func.__name__))\n",
    "      # Return the nested function\n",
    "    return wrapper\n",
    "\n",
    "@print_before_and_after\n",
    "def multiply(a, b):\n",
    "    print(a * b)\n",
    "\n",
    "multiply(5, 10)"
   ]
  },
  {
   "cell_type": "markdown",
   "metadata": {},
   "source": [
    "## Real-world examples"
   ]
  },
  {
   "cell_type": "markdown",
   "metadata": {},
   "source": [
    "### Time a function"
   ]
  },
  {
   "cell_type": "code",
   "execution_count": 121,
   "metadata": {},
   "outputs": [],
   "source": [
    "import time\n",
    "\n",
    "def timer(func):\n",
    "    \"\"\"A decorator that prints how long a function took to run.  \n",
    "    \n",
    "    Args:    \n",
    "        func (callable): The function being decorated.  \n",
    "        \n",
    "    Returns:    \n",
    "        callable: The decorated function.  \n",
    "    \"\"\"\n",
    "    # Define the wrapper function to return.\n",
    "    def wrapper(*args, **kwargs):\n",
    "        # When wrapper() is called, get the current time.   \n",
    "        t_start = time.time()\n",
    "        # Call the decorated function and store the result.   \n",
    "        result = func(*args, **kwargs)\n",
    "        # Get the total time it took to run, and print it.   \n",
    "        t_total = time.time() - t_start   \n",
    "        print('{} took {}s'.format(func.__name__, t_total))\n",
    "        return result\n",
    "    return wrapper"
   ]
  },
  {
   "cell_type": "markdown",
   "metadata": {},
   "source": [
    "### Using timer()"
   ]
  },
  {
   "cell_type": "code",
   "execution_count": 122,
   "metadata": {},
   "outputs": [],
   "source": [
    "@timer\n",
    "def sleep_n_seconds(n):  \n",
    "    time.sleep(n)"
   ]
  },
  {
   "cell_type": "code",
   "execution_count": 123,
   "metadata": {},
   "outputs": [
    {
     "name": "stdout",
     "output_type": "stream",
     "text": [
      "sleep_n_seconds took 5.001962184906006s\n"
     ]
    }
   ],
   "source": [
    "sleep_n_seconds(5)"
   ]
  },
  {
   "cell_type": "code",
   "execution_count": 124,
   "metadata": {},
   "outputs": [
    {
     "name": "stdout",
     "output_type": "stream",
     "text": [
      "sleep_n_seconds took 10.00467300415039s\n"
     ]
    }
   ],
   "source": [
    "sleep_n_seconds(10)"
   ]
  },
  {
   "cell_type": "markdown",
   "metadata": {},
   "source": [
    "### When to use decorators\n",
    "\n",
    "Add common behavior to multiple functions"
   ]
  },
  {
   "cell_type": "code",
   "execution_count": 138,
   "metadata": {},
   "outputs": [],
   "source": [
    "@timer\n",
    "def foo():\n",
    "    # do some computation\n",
    "    \n",
    "@timer\n",
    "def bar():\n",
    "    # do some other computation\n",
    "    \n",
    "@timer\n",
    "def baz():\n",
    "    # do something else"
   ]
  },
  {
   "cell_type": "markdown",
   "metadata": {},
   "source": [
    "### Exercise: Print the return type"
   ]
  },
  {
   "cell_type": "code",
   "execution_count": 139,
   "metadata": {},
   "outputs": [
    {
     "name": "stdout",
     "output_type": "stream",
     "text": [
      "foo() returned type <class 'int'>\n",
      "42\n",
      "foo() returned type <class 'list'>\n",
      "[1, 2, 3]\n",
      "foo() returned type <class 'dict'>\n",
      "{'a': 42}\n"
     ]
    }
   ],
   "source": [
    "def print_return_type(func):\n",
    "  # Define wrapper(), the decorated function\n",
    "    def wrapper(*args, **kwargs):\n",
    "    # Call the function being decorated\n",
    "        result = func(*args, **kwargs)\n",
    "        print('{}() returned type {}'.format(\n",
    "          func.__name__, type(result)\n",
    "        ))\n",
    "        return result\n",
    "    # Return the decorated function\n",
    "    return wrapper\n",
    "  \n",
    "@print_return_type\n",
    "def foo(value):\n",
    "    return value\n",
    "  \n",
    "print(foo(42))\n",
    "print(foo([1, 2, 3]))\n",
    "print(foo({'a': 42}))"
   ]
  },
  {
   "cell_type": "markdown",
   "metadata": {},
   "source": [
    "### Exercise: Counter"
   ]
  },
  {
   "cell_type": "code",
   "execution_count": 141,
   "metadata": {},
   "outputs": [
    {
     "name": "stdout",
     "output_type": "stream",
     "text": [
      "foo() was called 3 times.\n"
     ]
    }
   ],
   "source": [
    "def counter(func):\n",
    "    def wrapper(*args, **kwargs):\n",
    "        wrapper.count += 1\n",
    "        # Call the function being decorated and return the result\n",
    "        return wrapper\n",
    "    wrapper.count = 0\n",
    "    # Return the new decorated function\n",
    "    return wrapper\n",
    "\n",
    "# Decorate foo() with the counter() decorator\n",
    "@counter\n",
    "def foo():\n",
    "    print('calling foo()')\n",
    "\n",
    "    \n",
    "foo()\n",
    "foo()\n",
    "foo()\n",
    "\n",
    "print('foo() was called {} times.'.format(foo.count))"
   ]
  },
  {
   "cell_type": "markdown",
   "metadata": {},
   "source": [
    "## Decorators and metadata"
   ]
  },
  {
   "cell_type": "code",
   "execution_count": 143,
   "metadata": {},
   "outputs": [
    {
     "name": "stdout",
     "output_type": "stream",
     "text": [
      "Pause processing for n seconds.  \n",
      "    \n",
      "    Args:    \n",
      "    n (int): The number of seconds to pause for.  \n",
      "    \n"
     ]
    }
   ],
   "source": [
    "def sleep_n_seconds(n=10):\n",
    "    \"\"\"Pause processing for n seconds.  \n",
    "    \n",
    "    Args:    \n",
    "    n (int): The number of seconds to pause for.  \n",
    "    \"\"\"  \n",
    "    time.sleep(n)\n",
    "    \n",
    "print(sleep_n_seconds.__doc__)"
   ]
  },
  {
   "cell_type": "code",
   "execution_count": 144,
   "metadata": {},
   "outputs": [
    {
     "name": "stdout",
     "output_type": "stream",
     "text": [
      "sleep_n_seconds\n"
     ]
    }
   ],
   "source": [
    "print(sleep_n_seconds.__name__)"
   ]
  },
  {
   "cell_type": "code",
   "execution_count": 146,
   "metadata": {},
   "outputs": [
    {
     "name": "stdout",
     "output_type": "stream",
     "text": [
      "(10,)\n"
     ]
    }
   ],
   "source": [
    "print(sleep_n_seconds.__defaults__)"
   ]
  },
  {
   "cell_type": "markdown",
   "metadata": {},
   "source": [
    "problem: Ouput输出应该是\"a_function_requiring_decoration\"。这里的函数被warpTheFunction替代了。它重写了我们函数的名字和注释文档(docstring)。"
   ]
  },
  {
   "cell_type": "code",
   "execution_count": 147,
   "metadata": {},
   "outputs": [
    {
     "name": "stdout",
     "output_type": "stream",
     "text": [
      "None\n"
     ]
    }
   ],
   "source": [
    "@timer\n",
    "def sleep_n_seconds(n=10):\n",
    "    \"\"\"Pause processing for n seconds.  \n",
    "    \n",
    "    Args:    \n",
    "    n (int): The number of seconds to pause for.  \n",
    "    \"\"\"  \n",
    "    time.sleep(n)\n",
    "    \n",
    "print(sleep_n_seconds.__doc__)"
   ]
  },
  {
   "cell_type": "code",
   "execution_count": 149,
   "metadata": {},
   "outputs": [
    {
     "name": "stdout",
     "output_type": "stream",
     "text": [
      "wrapper\n"
     ]
    }
   ],
   "source": [
    "print(sleep_n_seconds.__name__)"
   ]
  },
  {
   "cell_type": "markdown",
   "metadata": {},
   "source": [
    "### fix: The timer decorator"
   ]
  },
  {
   "cell_type": "code",
   "execution_count": 152,
   "metadata": {},
   "outputs": [],
   "source": [
    "from functools import wraps\n",
    "def timer(func):\n",
    "    \"\"\"A decorator that prints how long a function took to run.  \"\"\"\n",
    "    @wraps(func)\n",
    "    def wrapper(*args, **kwargs):\n",
    "        # When wrapper() is called, get the current time.   \n",
    "        t_start = time.time()\n",
    "        # Call the decorated function and store the result.   \n",
    "        result = func(*args, **kwargs)\n",
    "        # Get the total time it took to run, and print it.   \n",
    "        t_total = time.time() - t_start   \n",
    "        print('{} took {}s'.format(func.__name__, t_total))\n",
    "        return result\n",
    "    return wrapper"
   ]
  },
  {
   "cell_type": "code",
   "execution_count": 153,
   "metadata": {},
   "outputs": [
    {
     "name": "stdout",
     "output_type": "stream",
     "text": [
      "Pause processing for n seconds.  \n",
      "    \n",
      "    Args:    \n",
      "    n (int): The number of seconds to pause for.  \n",
      "    \n"
     ]
    }
   ],
   "source": [
    "@timer\n",
    "def sleep_n_seconds(n=10):\n",
    "    \"\"\"Pause processing for n seconds.  \n",
    "    \n",
    "    Args:    \n",
    "    n (int): The number of seconds to pause for.  \n",
    "    \"\"\"  \n",
    "    time.sleep(n)\n",
    "    \n",
    "print(sleep_n_seconds.__doc__)"
   ]
  },
  {
   "cell_type": "code",
   "execution_count": 154,
   "metadata": {},
   "outputs": [
    {
     "name": "stdout",
     "output_type": "stream",
     "text": [
      "sleep_n_seconds\n"
     ]
    }
   ],
   "source": [
    "print(sleep_n_seconds.__name__)"
   ]
  },
  {
   "cell_type": "code",
   "execution_count": 156,
   "metadata": {},
   "outputs": [
    {
     "name": "stdout",
     "output_type": "stream",
     "text": [
      "None\n"
     ]
    }
   ],
   "source": [
    "print(sleep_n_seconds.__defaults__)"
   ]
  },
  {
   "cell_type": "markdown",
   "metadata": {},
   "source": [
    "### Access to the original function"
   ]
  },
  {
   "cell_type": "code",
   "execution_count": 158,
   "metadata": {},
   "outputs": [
    {
     "data": {
      "text/plain": [
       "<function __main__.sleep_n_seconds(n=10)>"
      ]
     },
     "execution_count": 158,
     "metadata": {},
     "output_type": "execute_result"
    }
   ],
   "source": [
    "sleep_n_seconds.__wrapped__"
   ]
  },
  {
   "cell_type": "markdown",
   "metadata": {},
   "source": [
    "## Decorators that take arguments"
   ]
  },
  {
   "cell_type": "code",
   "execution_count": 159,
   "metadata": {},
   "outputs": [
    {
     "name": "stdout",
     "output_type": "stream",
     "text": [
      "8\n",
      "8\n",
      "8\n"
     ]
    }
   ],
   "source": [
    "def run_three_times(func):\n",
    "    def wrapper(*args, **kwargs):\n",
    "        for i in range(3):      \n",
    "            func(*args, **kwargs)\n",
    "    return wrapper\n",
    "\n",
    "@run_three_times\n",
    "def print_sum(a, b):  \n",
    "    print(a + b)\n",
    "    \n",
    "print_sum(3, 5)"
   ]
  },
  {
   "cell_type": "markdown",
   "metadata": {},
   "source": [
    "### A decorator factory"
   ]
  },
  {
   "cell_type": "code",
   "execution_count": 167,
   "metadata": {},
   "outputs": [],
   "source": [
    "def run_n_times(n):\n",
    "    \"\"\"Define and return a decorator\"\"\"\n",
    "    def decorator(func):\n",
    "        def wrapper(*args, **kwargs):\n",
    "            for i in range(n):        \n",
    "                func(*args, **kwargs)\n",
    "        return wrapper\n",
    "    return decorator\n",
    "    \n",
    "run_three_times = run_n_times(3)\n",
    "\n",
    "@run_three_times\n",
    "def print_sum(a, b):  \n",
    "    print(a + b)\n",
    "    \n",
    "@run_n_times(3)\n",
    "def print_sum(a, b):  \n",
    "    print(a + b)"
   ]
  },
  {
   "cell_type": "markdown",
   "metadata": {},
   "source": [
    "Using run_n_times()"
   ]
  },
  {
   "cell_type": "code",
   "execution_count": 168,
   "metadata": {},
   "outputs": [
    {
     "name": "stdout",
     "output_type": "stream",
     "text": [
      "8\n",
      "8\n",
      "8\n"
     ]
    }
   ],
   "source": [
    "@run_n_times(3)\n",
    "def print_sum(a, b):  \n",
    "    print(a + b)\n",
    "\n",
    "print_sum(3, 5)"
   ]
  },
  {
   "cell_type": "code",
   "execution_count": 170,
   "metadata": {},
   "outputs": [
    {
     "name": "stdout",
     "output_type": "stream",
     "text": [
      "Hello!\n",
      "Hello!\n",
      "Hello!\n",
      "Hello!\n",
      "Hello!\n"
     ]
    }
   ],
   "source": [
    "@run_n_times(5)\n",
    "def print_sum(a, b):  \n",
    "    print(\"Hello!\")\n",
    "\n",
    "print_sum(3, 5)"
   ]
  },
  {
   "cell_type": "markdown",
   "metadata": {},
   "source": [
    "## Timeout(): a real world example"
   ]
  },
  {
   "cell_type": "code",
   "execution_count": 171,
   "metadata": {},
   "outputs": [
    {
     "data": {
      "text/plain": [
       "5"
      ]
     },
     "execution_count": 171,
     "metadata": {},
     "output_type": "execute_result"
    }
   ],
   "source": [
    "import signal\n",
    "\n",
    "def raise_timeout(*args, **kwargs):\n",
    "    raise TimeoutError()\n",
    "\n",
    "# When an \"alarm\" signal goes off, call raise_timeout()\n",
    "signal.signal(signalnum=signal.SIGALRM, handler=raise_timeout)\n",
    "# Set off an alarm in 5 seconds\n",
    "signal.alarm(5)\n",
    "# Cancel the alarm\n",
    "signal.alarm(0)"
   ]
  },
  {
   "cell_type": "code",
   "execution_count": 173,
   "metadata": {},
   "outputs": [],
   "source": [
    "def timeout_in_5s(func): \n",
    "    @wraps(func)\n",
    "    def wrapper(*args, **kwargs):\n",
    "        # Set an alarm for 5 seconds   \n",
    "        signal.alarm(5)\n",
    "        try:\n",
    "            # Call the decorated func\n",
    "            return func(*args, **kwargs)\n",
    "        finally:\n",
    "            # Cancel alarm     \n",
    "            signal.alarm(0)\n",
    "    return wrapper"
   ]
  },
  {
   "cell_type": "code",
   "execution_count": 174,
   "metadata": {},
   "outputs": [
    {
     "ename": "TimeoutError",
     "evalue": "",
     "output_type": "error",
     "traceback": [
      "\u001b[0;31m---------------------------------------------------------------------------\u001b[0m",
      "\u001b[0;31mTimeoutError\u001b[0m                              Traceback (most recent call last)",
      "\u001b[0;32m<ipython-input-174-0108488cb4f8>\u001b[0m in \u001b[0;36m<module>\u001b[0;34m\u001b[0m\n\u001b[1;32m      4\u001b[0m     \u001b[0mprint\u001b[0m\u001b[0;34m(\u001b[0m\u001b[0;34m'foo!'\u001b[0m\u001b[0;34m)\u001b[0m\u001b[0;34m\u001b[0m\u001b[0;34m\u001b[0m\u001b[0m\n\u001b[1;32m      5\u001b[0m \u001b[0;34m\u001b[0m\u001b[0m\n\u001b[0;32m----> 6\u001b[0;31m \u001b[0mfoo\u001b[0m\u001b[0;34m(\u001b[0m\u001b[0;34m)\u001b[0m\u001b[0;34m\u001b[0m\u001b[0;34m\u001b[0m\u001b[0m\n\u001b[0m",
      "\u001b[0;32m<ipython-input-173-5c170f9616ff>\u001b[0m in \u001b[0;36mwrapper\u001b[0;34m(*args, **kwargs)\u001b[0m\n\u001b[1;32m      6\u001b[0m         \u001b[0;32mtry\u001b[0m\u001b[0;34m:\u001b[0m\u001b[0;34m\u001b[0m\u001b[0;34m\u001b[0m\u001b[0m\n\u001b[1;32m      7\u001b[0m             \u001b[0;31m# Call the decorated func\u001b[0m\u001b[0;34m\u001b[0m\u001b[0;34m\u001b[0m\u001b[0;34m\u001b[0m\u001b[0m\n\u001b[0;32m----> 8\u001b[0;31m             \u001b[0;32mreturn\u001b[0m \u001b[0mfunc\u001b[0m\u001b[0;34m(\u001b[0m\u001b[0;34m*\u001b[0m\u001b[0margs\u001b[0m\u001b[0;34m,\u001b[0m \u001b[0;34m**\u001b[0m\u001b[0mkwargs\u001b[0m\u001b[0;34m)\u001b[0m\u001b[0;34m\u001b[0m\u001b[0;34m\u001b[0m\u001b[0m\n\u001b[0m\u001b[1;32m      9\u001b[0m         \u001b[0;32mfinally\u001b[0m\u001b[0;34m:\u001b[0m\u001b[0;34m\u001b[0m\u001b[0;34m\u001b[0m\u001b[0m\n\u001b[1;32m     10\u001b[0m             \u001b[0;31m# Cancel alarm\u001b[0m\u001b[0;34m\u001b[0m\u001b[0;34m\u001b[0m\u001b[0;34m\u001b[0m\u001b[0m\n",
      "\u001b[0;32m<ipython-input-174-0108488cb4f8>\u001b[0m in \u001b[0;36mfoo\u001b[0;34m()\u001b[0m\n\u001b[1;32m      1\u001b[0m \u001b[0;34m@\u001b[0m\u001b[0mtimeout_in_5s\u001b[0m\u001b[0;34m\u001b[0m\u001b[0;34m\u001b[0m\u001b[0m\n\u001b[1;32m      2\u001b[0m \u001b[0;32mdef\u001b[0m \u001b[0mfoo\u001b[0m\u001b[0;34m(\u001b[0m\u001b[0;34m)\u001b[0m\u001b[0;34m:\u001b[0m\u001b[0;34m\u001b[0m\u001b[0;34m\u001b[0m\u001b[0m\n\u001b[0;32m----> 3\u001b[0;31m     \u001b[0mtime\u001b[0m\u001b[0;34m.\u001b[0m\u001b[0msleep\u001b[0m\u001b[0;34m(\u001b[0m\u001b[0;36m10\u001b[0m\u001b[0;34m)\u001b[0m\u001b[0;34m\u001b[0m\u001b[0;34m\u001b[0m\u001b[0m\n\u001b[0m\u001b[1;32m      4\u001b[0m     \u001b[0mprint\u001b[0m\u001b[0;34m(\u001b[0m\u001b[0;34m'foo!'\u001b[0m\u001b[0;34m)\u001b[0m\u001b[0;34m\u001b[0m\u001b[0;34m\u001b[0m\u001b[0m\n\u001b[1;32m      5\u001b[0m \u001b[0;34m\u001b[0m\u001b[0m\n",
      "\u001b[0;32m<ipython-input-171-a920ac223708>\u001b[0m in \u001b[0;36mraise_timeout\u001b[0;34m(*args, **kwargs)\u001b[0m\n\u001b[1;32m      2\u001b[0m \u001b[0;34m\u001b[0m\u001b[0m\n\u001b[1;32m      3\u001b[0m \u001b[0;32mdef\u001b[0m \u001b[0mraise_timeout\u001b[0m\u001b[0;34m(\u001b[0m\u001b[0;34m*\u001b[0m\u001b[0margs\u001b[0m\u001b[0;34m,\u001b[0m \u001b[0;34m**\u001b[0m\u001b[0mkwargs\u001b[0m\u001b[0;34m)\u001b[0m\u001b[0;34m:\u001b[0m\u001b[0;34m\u001b[0m\u001b[0;34m\u001b[0m\u001b[0m\n\u001b[0;32m----> 4\u001b[0;31m     \u001b[0;32mraise\u001b[0m \u001b[0mTimeoutError\u001b[0m\u001b[0;34m(\u001b[0m\u001b[0;34m)\u001b[0m\u001b[0;34m\u001b[0m\u001b[0;34m\u001b[0m\u001b[0m\n\u001b[0m\u001b[1;32m      5\u001b[0m \u001b[0;34m\u001b[0m\u001b[0m\n\u001b[1;32m      6\u001b[0m \u001b[0;31m# When an \"alarm\" signal goes off, call raise_timeout()\u001b[0m\u001b[0;34m\u001b[0m\u001b[0;34m\u001b[0m\u001b[0;34m\u001b[0m\u001b[0m\n",
      "\u001b[0;31mTimeoutError\u001b[0m: "
     ]
    }
   ],
   "source": [
    "@timeout_in_5s\n",
    "def foo(): \n",
    "    time.sleep(10) \n",
    "    print('foo!')\n",
    "    \n",
    "foo()"
   ]
  },
  {
   "cell_type": "code",
   "execution_count": 177,
   "metadata": {},
   "outputs": [
    {
     "ename": "TimeoutError",
     "evalue": "",
     "output_type": "error",
     "traceback": [
      "\u001b[0;31m---------------------------------------------------------------------------\u001b[0m",
      "\u001b[0;31mTimeoutError\u001b[0m                              Traceback (most recent call last)",
      "\u001b[0;32m<ipython-input-177-8ff2689a19ab>\u001b[0m in \u001b[0;36m<module>\u001b[0;34m\u001b[0m\n\u001b[1;32m     20\u001b[0m     \u001b[0mprint\u001b[0m\u001b[0;34m(\u001b[0m\u001b[0;34m'foo!'\u001b[0m\u001b[0;34m)\u001b[0m\u001b[0;34m\u001b[0m\u001b[0;34m\u001b[0m\u001b[0m\n\u001b[1;32m     21\u001b[0m \u001b[0;34m\u001b[0m\u001b[0m\n\u001b[0;32m---> 22\u001b[0;31m \u001b[0mfoo\u001b[0m\u001b[0;34m(\u001b[0m\u001b[0;34m)\u001b[0m\u001b[0;34m\u001b[0m\u001b[0;34m\u001b[0m\u001b[0m\n\u001b[0m",
      "\u001b[0;32m<ipython-input-177-8ff2689a19ab>\u001b[0m in \u001b[0;36mwrapper\u001b[0;34m(*args, **kwargs)\u001b[0m\n\u001b[1;32m      7\u001b[0m             \u001b[0;32mtry\u001b[0m\u001b[0;34m:\u001b[0m\u001b[0;34m\u001b[0m\u001b[0;34m\u001b[0m\u001b[0m\n\u001b[1;32m      8\u001b[0m                 \u001b[0;31m# Call the decorated func\u001b[0m\u001b[0;34m\u001b[0m\u001b[0;34m\u001b[0m\u001b[0;34m\u001b[0m\u001b[0m\n\u001b[0;32m----> 9\u001b[0;31m                 \u001b[0;32mreturn\u001b[0m \u001b[0mfunc\u001b[0m\u001b[0;34m(\u001b[0m\u001b[0;34m*\u001b[0m\u001b[0margs\u001b[0m\u001b[0;34m,\u001b[0m \u001b[0;34m**\u001b[0m\u001b[0mkwargs\u001b[0m\u001b[0;34m)\u001b[0m\u001b[0;34m\u001b[0m\u001b[0;34m\u001b[0m\u001b[0m\n\u001b[0m\u001b[1;32m     10\u001b[0m             \u001b[0;32mfinally\u001b[0m\u001b[0;34m:\u001b[0m\u001b[0;34m\u001b[0m\u001b[0;34m\u001b[0m\u001b[0m\n\u001b[1;32m     11\u001b[0m                 \u001b[0;31m# Cancel alarm\u001b[0m\u001b[0;34m\u001b[0m\u001b[0;34m\u001b[0m\u001b[0;34m\u001b[0m\u001b[0m\n",
      "\u001b[0;32m<ipython-input-177-8ff2689a19ab>\u001b[0m in \u001b[0;36mfoo\u001b[0;34m()\u001b[0m\n\u001b[1;32m     17\u001b[0m \u001b[0;34m@\u001b[0m\u001b[0mtimeout\u001b[0m\u001b[0;34m(\u001b[0m\u001b[0;36m5\u001b[0m\u001b[0;34m)\u001b[0m\u001b[0;34m\u001b[0m\u001b[0;34m\u001b[0m\u001b[0m\n\u001b[1;32m     18\u001b[0m \u001b[0;32mdef\u001b[0m \u001b[0mfoo\u001b[0m\u001b[0;34m(\u001b[0m\u001b[0;34m)\u001b[0m\u001b[0;34m:\u001b[0m\u001b[0;34m\u001b[0m\u001b[0;34m\u001b[0m\u001b[0m\n\u001b[0;32m---> 19\u001b[0;31m     \u001b[0mtime\u001b[0m\u001b[0;34m.\u001b[0m\u001b[0msleep\u001b[0m\u001b[0;34m(\u001b[0m\u001b[0;36m10\u001b[0m\u001b[0;34m)\u001b[0m\u001b[0;34m\u001b[0m\u001b[0;34m\u001b[0m\u001b[0m\n\u001b[0m\u001b[1;32m     20\u001b[0m     \u001b[0mprint\u001b[0m\u001b[0;34m(\u001b[0m\u001b[0;34m'foo!'\u001b[0m\u001b[0;34m)\u001b[0m\u001b[0;34m\u001b[0m\u001b[0;34m\u001b[0m\u001b[0m\n\u001b[1;32m     21\u001b[0m \u001b[0;34m\u001b[0m\u001b[0m\n",
      "\u001b[0;32m<ipython-input-171-a920ac223708>\u001b[0m in \u001b[0;36mraise_timeout\u001b[0;34m(*args, **kwargs)\u001b[0m\n\u001b[1;32m      2\u001b[0m \u001b[0;34m\u001b[0m\u001b[0m\n\u001b[1;32m      3\u001b[0m \u001b[0;32mdef\u001b[0m \u001b[0mraise_timeout\u001b[0m\u001b[0;34m(\u001b[0m\u001b[0;34m*\u001b[0m\u001b[0margs\u001b[0m\u001b[0;34m,\u001b[0m \u001b[0;34m**\u001b[0m\u001b[0mkwargs\u001b[0m\u001b[0;34m)\u001b[0m\u001b[0;34m:\u001b[0m\u001b[0;34m\u001b[0m\u001b[0;34m\u001b[0m\u001b[0m\n\u001b[0;32m----> 4\u001b[0;31m     \u001b[0;32mraise\u001b[0m \u001b[0mTimeoutError\u001b[0m\u001b[0;34m(\u001b[0m\u001b[0;34m)\u001b[0m\u001b[0;34m\u001b[0m\u001b[0;34m\u001b[0m\u001b[0m\n\u001b[0m\u001b[1;32m      5\u001b[0m \u001b[0;34m\u001b[0m\u001b[0m\n\u001b[1;32m      6\u001b[0m \u001b[0;31m# When an \"alarm\" signal goes off, call raise_timeout()\u001b[0m\u001b[0;34m\u001b[0m\u001b[0;34m\u001b[0m\u001b[0;34m\u001b[0m\u001b[0m\n",
      "\u001b[0;31mTimeoutError\u001b[0m: "
     ]
    }
   ],
   "source": [
    "def timeout(n_seconds):    \n",
    "    def decorator(func): \n",
    "        @wraps(func)\n",
    "        def wrapper(*args, **kwargs):\n",
    "            # Set an alarm for 5 seconds   \n",
    "            signal.alarm(n_seconds)\n",
    "            try:\n",
    "                # Call the decorated func\n",
    "                return func(*args, **kwargs)\n",
    "            finally:\n",
    "                # Cancel alarm     \n",
    "                signal.alarm(0)\n",
    "        return wrapper\n",
    "    return decorator\n",
    "\n",
    "\n",
    "@timeout(5)\n",
    "def foo(): \n",
    "    time.sleep(10) \n",
    "    print('foo!')\n",
    "    \n",
    "foo()"
   ]
  },
  {
   "cell_type": "code",
   "execution_count": 178,
   "metadata": {},
   "outputs": [
    {
     "name": "stdout",
     "output_type": "stream",
     "text": [
      "bar!\n"
     ]
    }
   ],
   "source": [
    "@timeout(20)\n",
    "def bar(): \n",
    "    time.sleep(10) \n",
    "    print('bar!')\n",
    "    \n",
    "bar()"
   ]
  },
  {
   "cell_type": "markdown",
   "metadata": {},
   "source": [
    "### Exercise: Tag your functions\n",
    "\n",
    "You've decided to write a decorator that will let you tag your functions with an arbitrary list of tags. You could use these tags for many things:\n",
    "\n",
    "- Adding information about who has worked on the function, so a user can look up who to ask if they run into trouble using it.\n",
    "- Labeling functions as \"experimental\" so that users know that the inputs and outputs might change in the future.\n",
    "- Marking any functions that you plan to remove in a future version of the code.\n",
    "- tc."
   ]
  },
  {
   "cell_type": "code",
   "execution_count": 179,
   "metadata": {},
   "outputs": [
    {
     "name": "stdout",
     "output_type": "stream",
     "text": [
      "('test', 'this is a tag')\n"
     ]
    }
   ],
   "source": [
    "def tag(*tags):\n",
    "    # Define a new decorator, named \"decorator\", to return\n",
    "    def decorator(func):\n",
    "        # Ensure the decorated function keeps its metadata\n",
    "        @wraps(func)\n",
    "        def wrapper(*args, **kwargs):\n",
    "            # Call the function being decorated and return the result\n",
    "            return func(*args, **kwargs)\n",
    "        wrapper.tags = tags\n",
    "        return wrapper\n",
    "    # Return the new decorator\n",
    "    return decorator\n",
    "\n",
    "@tag('test', 'this is a tag')\n",
    "def foo():\n",
    "    pass\n",
    "\n",
    "print(foo.tags)"
   ]
  },
  {
   "cell_type": "markdown",
   "metadata": {},
   "source": [
    "### Exercise: Check the return type"
   ]
  },
  {
   "cell_type": "code",
   "execution_count": 180,
   "metadata": {},
   "outputs": [
    {
     "name": "stdout",
     "output_type": "stream",
     "text": [
      "foo() did not return a dict!\n"
     ]
    }
   ],
   "source": [
    "def returns_dict(func):\n",
    "  # Complete the returns_dict() decorator\n",
    "    def wrapper(*args, **kwargs):\n",
    "        result = func(*args, **kwargs)\n",
    "        assert(type(result) == dict)\n",
    "        return result\n",
    "    return wrapper\n",
    "\n",
    "@returns_dict\n",
    "def foo(value):\n",
    "    return value\n",
    "\n",
    "try:\n",
    "    print(foo([1,2,3]))\n",
    "except AssertionError:\n",
    "    print('foo() did not return a dict!')"
   ]
  }
 ],
 "metadata": {
  "kernelspec": {
   "display_name": "Python 3",
   "language": "python",
   "name": "python3"
  },
  "language_info": {
   "codemirror_mode": {
    "name": "ipython",
    "version": 3
   },
   "file_extension": ".py",
   "mimetype": "text/x-python",
   "name": "python",
   "nbconvert_exporter": "python",
   "pygments_lexer": "ipython3",
   "version": "3.7.4"
  },
  "toc": {
   "base_numbering": 1,
   "nav_menu": {},
   "number_sections": true,
   "sideBar": true,
   "skip_h1_title": false,
   "title_cell": "Table of Contents",
   "title_sidebar": "Contents",
   "toc_cell": true,
   "toc_position": {},
   "toc_section_display": true,
   "toc_window_display": false
  }
 },
 "nbformat": 4,
 "nbformat_minor": 2
}
